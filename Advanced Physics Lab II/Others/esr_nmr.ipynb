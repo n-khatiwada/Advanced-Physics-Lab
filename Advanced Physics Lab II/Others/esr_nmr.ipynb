{
 "cells": [
  {
   "cell_type": "code",
   "execution_count": 1,
   "metadata": {},
   "outputs": [],
   "source": [
    "import pandas as pd\n",
    "import codecs\n",
    "import matplotlib.pyplot as plt\n",
    "import numpy as np\n",
    "import odf\n",
    "import math\n",
    "import pdfkit\n",
    "from scipy.stats import linregress\n",
    "import scipy.constants as const\n",
    "from itertools import chain\n",
    "from statistics import mean\n",
    "from uncertainties import ufloat, ufloat_fromstr\n",
    "from uncertainties.umath import *\n",
    "from sklearn.linear_model import LinearRegression\n",
    "from scipy.optimize import curve_fit, minimize_scalar\n",
    "from lmfit.models import LorentzianModel\n",
    "from IPython.display import display, Latex\n",
    "pd.set_option('display.max_rows', None)\n",
    "pd.set_option('display.max_columns', None)\n",
    "pd.set_option('display.width', None)"
   ]
  },
  {
   "cell_type": "code",
   "execution_count": 2,
   "metadata": {},
   "outputs": [
    {
     "name": "stdout",
     "output_type": "stream",
     "text": [
      "1.839202816014853 0.008127250418085928\n"
     ]
    },
    {
     "data": {
      "image/png": "[encoded data removed]",
      "text/plain": [
       "<Figure size 432x288 with 1 Axes>"
      ]
     },
     "metadata": {
      "needs_background": "light"
     },
     "output_type": "display_data"
    }
   ],
   "source": [
    "I = np.array([0.25, 0.36, 0.42, 0.53, 0.61, 0.70, 0.80, 0.89, 0.97, 1.08, 1.18, 1.27, 1.35, 1.46, 1.53, 1.61, \n",
    "              1.71, 1.78, 1.89, 2.01, 2.10, 2.17, 2.28]) / 2\n",
    "v = np.array([0.15, 0.20, 0.25, 0.30, 0.35, 0.40, 0.45, 0.50, 0.55, 0.60, 0.65, 0.70, 0.75, 0.80, 0.85, 0.90, \n",
    "              0.95, 1.00, 1.05, 1.10, 1.15, 1.20, 1.25]) * 10**8\n",
    "# 1.40 in I discarded\n",
    "\n",
    "n = 320     # per coil\n",
    "r = 0.068\n",
    "\n",
    "constant = const.mu_0 * ((4/5)**(3/2)) * (n/r)\n",
    "B = [(constant * i) for i in I]\n",
    "\n",
    "u_B = 9.27400899 * (10**(-24))\n",
    "\n",
    "reg = linregress(B, v)\n",
    "\n",
    "g = reg[0] * const.h / u_B\n",
    "g_err = reg[4] * const.h / u_B\n",
    "print(g, g_err)\n",
    "\n",
    "plt.scatter(B, v)\n",
    "plt.xlabel('B [T]')\n",
    "plt.ylabel(\"frequency [Hz]\")\n",
    "plt.show()"
   ]
  },
  {
   "cell_type": "code",
   "execution_count": 3,
   "metadata": {},
   "outputs": [
    {
     "data": {
      "text/plain": [
       "array([0.00015233, 0.00015402, 0.00011298])"
      ]
     },
     "execution_count": 3,
     "metadata": {},
     "output_type": "execute_result"
    }
   ],
   "source": [
    "v = np.array([50, 40, 60]) * 10**6\n",
    "dU = np.array([0.4, 0.4, 0.3])           # not precise\n",
    "I_mod = np.array([0.90, 0.91, 0.89]) / 2\n",
    "U_mod = np.array([5, 5, 5])\n",
    "\n",
    "dI = dU / U_mod * I_mod\n",
    "dB = constant * dI\n",
    "dB"
   ]
  },
  {
   "cell_type": "code",
   "execution_count": 27,
   "metadata": {},
   "outputs": [],
   "source": [
    "I = [3.1, 3.2, 3.3, 3.4, 3.5, 3.6]\n",
    "def g_factor(B, v):\n",
    "    X = np.array(B).reshape(-1, 1)\n",
    "    Y = np.array(v).reshape(-1, 1)\n",
    "    u_N = 5.051 * (10**(-27))\n",
    "    reg = LinearRegression().fit(X, Y)\n",
    "    intercept = reg.intercept_\n",
    "    coef = reg.coef_\n",
    "    reg_value = reg.score(X, Y)\n",
    "    return (coef[0,0] * const.h) / u_N"
   ]
  },
  {
   "cell_type": "code",
   "execution_count": 43,
   "metadata": {},
   "outputs": [],
   "source": [
    "B = np.array([250, 254.4, 258.8, 263.1, 268.2, 272.0])*(10**(-3))\n",
    "B = np.array([0.403, 0.412, 0.420, 0.426, 0.433, 0.439])\n",
    "# at 0A, B = -0.5 mT\n",
    "#theoretical values\n",
    "g_fact_polystyrene = 5.5857\n",
    "g_fact_glycerin = 5.5857\n",
    "g_fact_PTFE = 5.2567"
   ]
  },
  {
   "cell_type": "code",
   "execution_count": 44,
   "metadata": {},
   "outputs": [
    {
     "name": "stdout",
     "output_type": "stream",
     "text": [
      "5.22042171589923 0.0653952564764972\n"
     ]
    }
   ],
   "source": [
    "#polystyrene\n",
    "v = np.array([17.4150, 17.8101, 18.1753, 18.4439, 18.7472, 18.7658])*(10**(6))\n",
    "g_fact = g_factor(B, v)\n",
    "err = (np.abs(g_fact - g_fact_polystyrene)/(g_fact_polystyrene))\n",
    "print(g_fact, err)"
   ]
  },
  {
   "cell_type": "code",
   "execution_count": 45,
   "metadata": {},
   "outputs": [
    {
     "name": "stdout",
     "output_type": "stream",
     "text": [
      "5.543287337163829 0.007593079262432891\n"
     ]
    }
   ],
   "source": [
    "#glycerin\n",
    "v = np.array([17.5981, 17.8879, 18.2180, 18.4929, 18.8026, 19.1102])*(10**6)\n",
    "# v_ii = np.array([17.499, 17.867, 18.249, 18.537, 18.801, 19.053])*(10**6)\n",
    "g_fact = g_factor(B, v)\n",
    "err = (np.abs(g_fact - g_fact_glycerin)/(g_fact_glycerin))\n",
    "print(g_fact, err)"
   ]
  },
  {
   "cell_type": "code",
   "execution_count": 46,
   "metadata": {},
   "outputs": [
    {
     "name": "stdout",
     "output_type": "stream",
     "text": [
      "5.803508928651481 0.10402133061644768\n"
     ]
    }
   ],
   "source": [
    "#PTFE\n",
    "v = np.array([16.4224, 16.7308, 17.2593, 17.5011, 17.7050, 17.9865])*(10**6)\n",
    "g_fact = g_factor(B, v)\n",
    "err = (np.abs(g_fact - g_fact_PTFE)/(g_fact_PTFE))\n",
    "print(g_fact, err)"
   ]
  },
  {
   "cell_type": "code",
   "execution_count": 47,
   "metadata": {},
   "outputs": [
    {
     "name": "stdout",
     "output_type": "stream",
     "text": [
      "5.6380608526722495 0.0725475778857932\n"
     ]
    }
   ],
   "source": [
    "#plant\n",
    "v = np.array([17.55, 17.86, 18.16, 18.51, 18.78, 19.08])*(10**6)\n",
    "g_fact = g_factor(B, v)\n",
    "err = (np.abs(g_fact - g_fact_PTFE)/(g_fact_PTFE))\n",
    "print(g_fact, err)"
   ]
  }
 ],
 "metadata": {
  "kernelspec": {
   "display_name": "Python 3",
   "language": "python",
   "name": "python3"
  },
  "language_info": {
   "codemirror_mode": {
    "name": "ipython",
    "version": 3
   },
   "file_extension": ".py",
   "mimetype": "text/x-python",
   "name": "python",
   "nbconvert_exporter": "python",
   "pygments_lexer": "ipython3",
   "version": "3.8.5"
  }
 },
 "nbformat": 4,
 "nbformat_minor": 4
}
