{
 "cells": [
  {
   "cell_type": "code",
   "execution_count": 2,
   "metadata": {},
   "outputs": [],
   "source": [
    "import pandas as pd\n",
    "import codecs\n",
    "import matplotlib.pyplot as plt\n",
    "import numpy as np\n",
    "import odf\n",
    "import math\n",
    "import pdfkit\n",
    "from scipy.stats import linregress\n",
    "import scipy.constants as const\n",
    "from itertools import chain\n",
    "from statistics import mean\n",
    "from uncertainties import ufloat, ufloat_fromstr\n",
    "from uncertainties.umath import *\n",
    "from sklearn.linear_model import LinearRegression\n",
    "from scipy.optimize import curve_fit, minimize_scalar\n",
    "from lmfit.models import LorentzianModel\n",
    "from IPython.display import display, Latex\n",
    "pd.set_option('display.max_rows', None)\n",
    "pd.set_option('display.max_columns', None)\n",
    "pd.set_option('display.width', None)"
   ]
  },
  {
   "cell_type": "markdown",
   "metadata": {},
   "source": [
    "### calibration of magnetic field\n",
    "- SI units. B is converted from $[mT]$ to $[T]$."
   ]
  },
  {
   "cell_type": "code",
   "execution_count": 3,
   "metadata": {},
   "outputs": [
    {
     "data": {
      "text/html": [
       "<div>\n",
       "<style scoped>\n",
       "    .dataframe tbody tr th:only-of-type {\n",
       "        vertical-align: middle;\n",
       "    }\n",
       "\n",
       "    .dataframe tbody tr th {\n",
       "        vertical-align: top;\n",
       "    }\n",
       "\n",
       "    .dataframe thead th {\n",
       "        text-align: right;\n",
       "    }\n",
       "</style>\n",
       "<table border=\"1\" class=\"dataframe\">\n",
       "  <thead>\n",
       "    <tr style=\"text-align: right;\">\n",
       "      <th></th>\n",
       "      <th>0</th>\n",
       "      <th>1</th>\n",
       "      <th>2</th>\n",
       "      <th>3</th>\n",
       "      <th>4</th>\n",
       "      <th>5</th>\n",
       "      <th>6</th>\n",
       "      <th>7</th>\n",
       "      <th>8</th>\n",
       "      <th>9</th>\n",
       "      <th>10</th>\n",
       "      <th>11</th>\n",
       "      <th>12</th>\n",
       "      <th>13</th>\n",
       "      <th>14</th>\n",
       "      <th>15</th>\n",
       "    </tr>\n",
       "  </thead>\n",
       "  <tbody>\n",
       "    <tr>\n",
       "      <th>I</th>\n",
       "      <td>0.000</td>\n",
       "      <td>0.40</td>\n",
       "      <td>0.980</td>\n",
       "      <td>1.670</td>\n",
       "      <td>2.280</td>\n",
       "      <td>3.22</td>\n",
       "      <td>3.930</td>\n",
       "      <td>4.540</td>\n",
       "      <td>5.14</td>\n",
       "      <td>5.480</td>\n",
       "      <td>6.400</td>\n",
       "      <td>6.920</td>\n",
       "      <td>7.380</td>\n",
       "      <td>7.860</td>\n",
       "      <td>8.290</td>\n",
       "      <td>9.160</td>\n",
       "    </tr>\n",
       "    <tr>\n",
       "      <th>B</th>\n",
       "      <td>0.008</td>\n",
       "      <td>0.03</td>\n",
       "      <td>0.064</td>\n",
       "      <td>0.105</td>\n",
       "      <td>0.143</td>\n",
       "      <td>0.20</td>\n",
       "      <td>0.245</td>\n",
       "      <td>0.283</td>\n",
       "      <td>0.32</td>\n",
       "      <td>0.342</td>\n",
       "      <td>0.398</td>\n",
       "      <td>0.428</td>\n",
       "      <td>0.455</td>\n",
       "      <td>0.489</td>\n",
       "      <td>0.509</td>\n",
       "      <td>0.556</td>\n",
       "    </tr>\n",
       "  </tbody>\n",
       "</table>\n",
       "</div>"
      ],
      "text/plain": [
       "      0     1      2      3      4     5      6      7     8      9      10  \\\n",
       "I  0.000  0.40  0.980  1.670  2.280  3.22  3.930  4.540  5.14  5.480  6.400   \n",
       "B  0.008  0.03  0.064  0.105  0.143  0.20  0.245  0.283  0.32  0.342  0.398   \n",
       "\n",
       "      11     12     13     14     15  \n",
       "I  6.920  7.380  7.860  8.290  9.160  \n",
       "B  0.428  0.455  0.489  0.509  0.556  "
      ]
     },
     "execution_count": 3,
     "metadata": {},
     "output_type": "execute_result"
    }
   ],
   "source": [
    "I = np.array([0, 0.4, 0.98, 1.67, 2.28, 3.22, 3.93, 4.54, 5.14, 5.48, 6.40, 6.92, 7.38, 7.86, 8.29, 9.16])\n",
    "B = 10**(-3) * np.array([8, 30, 64, 105, 143, 200, 245, 283, 320, 342, 398, 428, 455, 489, 509,556])                  \n",
    "\n",
    "ib = pd.DataFrame(list(zip(I, B)), columns=['I','B'])\n",
    "ib.transpose()"
   ]
  },
  {
   "cell_type": "code",
   "execution_count": 4,
   "metadata": {},
   "outputs": [],
   "source": [
    "X = np.array(I).reshape(-1, 1)\n",
    "Y = np.array(B).reshape(-1, 1)\n",
    "\n",
    "reg = LinearRegression().fit(X, Y)\n",
    "intercept = reg.intercept_\n",
    "coef = reg.coef_\n",
    "reg_value = reg.score(X, Y)\n",
    "\n",
    "def magnetic_field(I):\n",
    "    return (coef[0, 0] * np.array(I) + intercept[0])"
   ]
  },
  {
   "cell_type": "code",
   "execution_count": 5,
   "metadata": {},
   "outputs": [
    {
     "data": {
      "image/png": "[encoded data removed]",
      "text/plain": [
       "<Figure size 600x400 with 1 Axes>"
      ]
     },
     "metadata": {
      "needs_background": "light"
     },
     "output_type": "display_data"
    },
    {
     "data": {
      "text/latex": [
       "$R^2$ = 0.9997626385568898"
      ],
      "text/plain": [
       "<IPython.core.display.Latex object>"
      ]
     },
     "metadata": {},
     "output_type": "display_data"
    },
    {
     "data": {
      "text/latex": [
       "$f(x) = 0.06083760613207377x + 0.005894394273297909$"
      ],
      "text/plain": [
       "<IPython.core.display.Latex object>"
      ]
     },
     "metadata": {},
     "output_type": "display_data"
    }
   ],
   "source": [
    "plt.figure(dpi=100)\n",
    "plt.plot(X, magnetic_field(X))\n",
    "plt.scatter(X, Y, color='b')\n",
    "plt.xlabel('$I\\ [A$]')\n",
    "plt.ylabel('$B\\ [T]$')\n",
    "plt.grid()\n",
    "plt.savefig('calibration.pdf')\n",
    "plt.show()\n",
    "display(Latex(\"$R^2$ = {}\".format(reg_value)))\n",
    "display(Latex(\"$f(x) = {}x + {}$\".format(coef[0, 0], intercept[0])))"
   ]
  },
  {
   "cell_type": "markdown",
   "metadata": {},
   "source": [
    "### calculation of Bohr magneton\n",
    "- t, h, c, B are etalon spacing, Planck's constant, speed of light and array of magnetic fields respectively.\n",
    "- All SI units. Ring positions are converted from $[mm]$ to $[m]$."
   ]
  },
  {
   "cell_type": "code",
   "execution_count": 6,
   "metadata": {},
   "outputs": [],
   "source": [
    "def radii(pos):\n",
    "    \"\"\"Returns consecutive radii starting with the outermost ring.\n",
    "    Positions are taken from the leftmost to the rightmost rings.\"\"\"\n",
    "    \n",
    "    n = len(pos)\n",
    "    assert n % 16 == 0\n",
    "    \n",
    "    r = [abs(pos[n-1-i] - pos[i]) / 2 for i in range(n // 2)]\n",
    "    return np.array(r)\n",
    "\n",
    "def wave_num_diff(pos):\n",
    "    \"\"\"Returns the average difference in wave numbers of the two split wavelengths.\"\"\"\n",
    "    t = 3 * 10**(-3)\n",
    "    \n",
    "    r = radii(pos)\n",
    "    r_sq = np.square(r)\n",
    "    n_r = len(r)\n",
    "    p_max = n_r // 2                    # maximum order of rings\n",
    "    \n",
    "    delta_sum = 0\n",
    "    for i in range(n_r):\n",
    "        delta_sum += (-1)**i * r_sq[i]\n",
    "    avg_delta = delta_sum / p_max\n",
    "    \n",
    "    Delta_sum = 0\n",
    "    for i in range(n_r):\n",
    "        Delta_sum += (-1)**(i // 2) * r_sq[i] \n",
    "    avg_Delta = Delta_sum / p_max\n",
    "    \n",
    "    wave_num_diff = (1/(2 * t)) * (avg_delta/avg_Delta)\n",
    "    return wave_num_diff\n",
    "\n",
    "def bohr_magneton(I, pos):   \n",
    "    h = const.h\n",
    "    c = const.c\n",
    "    \n",
    "    B = magnetic_field(I)\n",
    "    wave_num = wave_num_diff(pos)\n",
    "    bohr_mag = (h * c) * (wave_num / (2 * B))\n",
    "    \n",
    "    return bohr_mag"
   ]
  },
  {
   "cell_type": "code",
   "execution_count": 7,
   "metadata": {},
   "outputs": [
    {
     "data": {
      "text/plain": [
       "9.778206086879677e-24"
      ]
     },
     "execution_count": 7,
     "metadata": {},
     "output_type": "execute_result"
    }
   ],
   "source": [
    "# reading1 = [0.5, 0.9, 2.9, 3.5, 4.78, 5.54, 8.58, 9.60, 26.6, 27.64, 30.32, 31.06, 33.26, 33.82, 35.78, 36.36]\n",
    "reading1 = [0.5, 0.9, 2.9, 3.5, 5.78, 6.54, 9.58, 10.60, 26.6, 27.64, 30.32, 31.06, 33.26, 33.82, 35.78, 36.36]\n",
    "pos1 = np.array(reading1) / 2000\n",
    "\n",
    "I1 = 6.05\n",
    "u1 = bohr_magneton(I1, pos1)\n",
    "u1"
   ]
  },
  {
   "cell_type": "code",
   "execution_count": 8,
   "metadata": {},
   "outputs": [
    {
     "data": {
      "text/plain": [
       "9.036506725801267e-24"
      ]
     },
     "execution_count": 8,
     "metadata": {},
     "output_type": "execute_result"
    }
   ],
   "source": [
    "# msd1 = [12, 13, 15, 15, 17, 18, 21, 22, 38, 39, 42, 43, 45, 45, 47, 48]\n",
    "msd2 = [12, 13, 15, 15, 17, 18, 21, 22, 39, 40, 43, 44, 46, 46, 48, 49]\n",
    "ssd2 = [80, 34, 22, 94, 96, 80, 80, 88, 30, 40, 52, 46, 10, 78, 82, 40]\n",
    "pos2 = (np.array(msd2) + np.array(ssd2) / 100) / 2000\n",
    "\n",
    "I2 = 7.15\n",
    "u2 = bohr_magneton(I2, pos2)\n",
    "u2"
   ]
  },
  {
   "cell_type": "code",
   "execution_count": 9,
   "metadata": {},
   "outputs": [],
   "source": [
    "# reading2b = [0.06, 0.68, 2.50, 3.2, 5.38, 6.08, 8.98, 10.14, 27.04, 28.32, 30.80, 31.60, 33.74, 34.48, 36.38, 36.92]\n",
    "# pos2b = np.array(reading4) / 2000\n",
    "\n",
    "# I2b = 7.06\n",
    "# u2b = bohr_magneton(I4, pos4)\n",
    "# u2b"
   ]
  },
  {
   "cell_type": "code",
   "execution_count": 10,
   "metadata": {},
   "outputs": [
    {
     "data": {
      "text/plain": [
       "9.345774884818846e-24"
      ]
     },
     "execution_count": 10,
     "metadata": {},
     "output_type": "execute_result"
    }
   ],
   "source": [
    "# reading3 = [0.52, 0.96, 2.60, 3.34, 5.46, 6.28, 9, 10.46, 27, 28.32, 30.74, 31.68, 32.8, 33.58, 35.4, 35.9]\n",
    "reading3 = [0.52, 0.96, 2.60, 3.34, 5.46, 6.28, 9, 10.46, 27, 28.32, 30.74, 31.68, 33.8, 34.58, 36.4, 36.9]\n",
    "pos3 = np.array(reading3) / 2000\n",
    "\n",
    "I3 = 7.97\n",
    "u3 = bohr_magneton(I3, pos3)\n",
    "u3"
   ]
  },
  {
   "cell_type": "code",
   "execution_count": 11,
   "metadata": {},
   "outputs": [
    {
     "data": {
      "text/plain": [
       "9.376530299923501e-24"
      ]
     },
     "execution_count": 11,
     "metadata": {},
     "output_type": "execute_result"
    }
   ],
   "source": [
    "# reading6 = [0.36, 0.94, 2.54, 3.34, 5.44, 6.4, 8.96, 10.4, 27.96, 29.56, 31.86, 32.78, 34.82, 35.74, 37.42, 38.08]\n",
    "reading4 = [0.36, 0.94, 2.54, 3.34, 5.44, 6.4, 8.96, 10.4, 26.96, 28.56, 30.86, 31.78, 33.82, 34.74, 36.42, 37.08]\n",
    "pos4 = np.array(reading4) / 2000\n",
    "\n",
    "I4 = 9.07\n",
    "u4 = bohr_magneton(I4, pos4)\n",
    "u4"
   ]
  },
  {
   "cell_type": "code",
   "execution_count": 12,
   "metadata": {},
   "outputs": [
    {
     "data": {
      "text/plain": [
       "8.791066943159586e-24"
      ]
     },
     "execution_count": 12,
     "metadata": {},
     "output_type": "execute_result"
    }
   ],
   "source": [
    "# msd5 = [14, 15, 16, 17, 19, 20, 23, 24, 39, 40, 41, 42, 43, 44, 46, 47]\n",
    "msd5 = [14, 15, 16, 17, 19, 20, 23, 24, 41, 43, 45, 46, 48, 49, 51, 52]\n",
    "ssd5 = [54, 26, 88, 72, 66, 78, 36, 80, 80, 52, 84, 96, 80, 60, 34, 8]\n",
    "pos5 = (np.array(msd5) + np.array(ssd5) / 100) / 2000\n",
    "\n",
    "I5 = 10.13\n",
    "u5 = bohr_magneton(I5, pos5)\n",
    "u5"
   ]
  },
  {
   "cell_type": "code",
   "execution_count": 13,
   "metadata": {},
   "outputs": [],
   "source": [
    "# # reading7 = [0.74, 0.9, 3.16, 4, 5.94, 6.98, 9.6, 11.1, 27.7, 29.24, 31.64, 32.64, 34.56, 35.38, 37.18, 37.92]\n",
    "# reading7 = [0.74, 1.4, 3.16, 4, 5.94, 6.98, 9.6, 11.1, 27.7, 29.24, 31.64, 32.64, 34.56, 35.38, 37.18, 37.92]\n",
    "# pos7 = np.array(reading7) / 2000\n",
    "\n",
    "# I7 = 10\n",
    "# print(bohr_magneton(I7, pos7))\n",
    "\n",
    "# u = np.mean([u1, u2, u3, u5, u6])\n",
    "# print(u)"
   ]
  },
  {
   "cell_type": "code",
   "execution_count": null,
   "metadata": {},
   "outputs": [],
   "source": [
    "I_arr = np.array([I1, I2, I3, I4, I5])\n",
    "B_arr = np.array([magnetic_field(I) for I in I_arr])\n",
    "\n",
    "pos_arr = [pos1, pos2, pos3, pos4, pos5]\n",
    "wave_num_arr = np.array([wave_num_diff(pos) for pos in pos_arr])\n",
    "reg = linregress(B_arr, wave_num_arr / 2)\n",
    "print(reg[0], reg[4])\n",
    "\n",
    "plt.figure(dpi=100)\n",
    "plt.scatter(B_arr, wave_num_arr/2, color='b')\n",
    "plt.plot(B_arr, [reg[0] * B + reg[1] for B in B_arr])\n",
    "plt.xlabel('$B\\ [T]$')\n",
    "plt.ylabel('$\\Delta \\hat v\\ [m^{-1}]$')\n",
    "plt.grid()\n",
    "plt.savefig('linear_fit.pdf')\n",
    "plt.show()"
   ]
  },
  {
   "cell_type": "code",
   "execution_count": 23,
   "metadata": {},
   "outputs": [
    {
     "data": {
      "text/plain": [
       "7.945783428595715e-24"
      ]
     },
     "execution_count": 23,
     "metadata": {},
     "output_type": "execute_result"
    }
   ],
   "source": [
    "40*const.h*const.c"
   ]
  },
  {
   "cell_type": "code",
   "execution_count": 18,
   "metadata": {},
   "outputs": [
    {
     "name": "stdout",
     "output_type": "stream",
     "text": [
      "7.902611963437639e-24 7.719419859963611e-25\n",
      "9.265616988116575e-24 3.344140824718214e-25\n"
     ]
    },
    {
     "data": {
      "text/html": [
       "<div>\n",
       "<style scoped>\n",
       "    .dataframe tbody tr th:only-of-type {\n",
       "        vertical-align: middle;\n",
       "    }\n",
       "\n",
       "    .dataframe tbody tr th {\n",
       "        vertical-align: top;\n",
       "    }\n",
       "\n",
       "    .dataframe thead th {\n",
       "        text-align: right;\n",
       "    }\n",
       "</style>\n",
       "<table border=\"1\" class=\"dataframe\">\n",
       "  <thead>\n",
       "    <tr style=\"text-align: right;\">\n",
       "      <th></th>\n",
       "      <th>$I [A]$</th>\n",
       "      <th>$B [T]$</th>\n",
       "      <th>$r_{4, a}$</th>\n",
       "      <th>$r_{4, b}$</th>\n",
       "      <th>$r_{3, a}$</th>\n",
       "      <th>$r_{3, b}$</th>\n",
       "      <th>$r_{2, a}$</th>\n",
       "      <th>$r_{2, b}$</th>\n",
       "      <th>$r_{1, a}$</th>\n",
       "      <th>$r_{1, b}$</th>\n",
       "      <th>$\\Delta \\hat v$</th>\n",
       "      <th>$\\mu_B$</th>\n",
       "    </tr>\n",
       "  </thead>\n",
       "  <tbody>\n",
       "    <tr>\n",
       "      <th>0</th>\n",
       "      <td>6.05</td>\n",
       "      <td>0.374</td>\n",
       "      <td>8.96</td>\n",
       "      <td>8.72</td>\n",
       "      <td>7.73</td>\n",
       "      <td>7.44</td>\n",
       "      <td>6.32</td>\n",
       "      <td>5.94</td>\n",
       "      <td>4.51</td>\n",
       "      <td>4.00</td>\n",
       "      <td>36.8</td>\n",
       "      <td>9.78</td>\n",
       "    </tr>\n",
       "    <tr>\n",
       "      <th>1</th>\n",
       "      <td>7.15</td>\n",
       "      <td>0.441</td>\n",
       "      <td>9.15</td>\n",
       "      <td>8.87</td>\n",
       "      <td>7.89</td>\n",
       "      <td>7.54</td>\n",
       "      <td>6.62</td>\n",
       "      <td>6.18</td>\n",
       "      <td>4.65</td>\n",
       "      <td>4.10</td>\n",
       "      <td>40.1</td>\n",
       "      <td>9.04</td>\n",
       "    </tr>\n",
       "    <tr>\n",
       "      <th>2</th>\n",
       "      <td>7.97</td>\n",
       "      <td>0.491</td>\n",
       "      <td>9.09</td>\n",
       "      <td>8.86</td>\n",
       "      <td>8.00</td>\n",
       "      <td>7.61</td>\n",
       "      <td>6.56</td>\n",
       "      <td>6.12</td>\n",
       "      <td>4.83</td>\n",
       "      <td>4.14</td>\n",
       "      <td>46.2</td>\n",
       "      <td>9.35</td>\n",
       "    </tr>\n",
       "    <tr>\n",
       "      <th>3</th>\n",
       "      <td>9.07</td>\n",
       "      <td>0.558</td>\n",
       "      <td>9.18</td>\n",
       "      <td>8.87</td>\n",
       "      <td>8.05</td>\n",
       "      <td>7.62</td>\n",
       "      <td>6.59</td>\n",
       "      <td>6.12</td>\n",
       "      <td>4.90</td>\n",
       "      <td>4.14</td>\n",
       "      <td>52.6</td>\n",
       "      <td>9.38</td>\n",
       "    </tr>\n",
       "    <tr>\n",
       "      <th>4</th>\n",
       "      <td>10.13</td>\n",
       "      <td>0.622</td>\n",
       "      <td>9.39</td>\n",
       "      <td>9.02</td>\n",
       "      <td>8.18</td>\n",
       "      <td>7.77</td>\n",
       "      <td>6.82</td>\n",
       "      <td>6.27</td>\n",
       "      <td>5.04</td>\n",
       "      <td>4.25</td>\n",
       "      <td>55.1</td>\n",
       "      <td>8.79</td>\n",
       "    </tr>\n",
       "  </tbody>\n",
       "</table>\n",
       "</div>"
      ],
      "text/plain": [
       "   $I [A]$  $B [T]$  $r_{4, a}$  $r_{4, b}$  $r_{3, a}$  $r_{3, b}$  \\\n",
       "0     6.05    0.374        8.96        8.72        7.73        7.44   \n",
       "1     7.15    0.441        9.15        8.87        7.89        7.54   \n",
       "2     7.97    0.491        9.09        8.86        8.00        7.61   \n",
       "3     9.07    0.558        9.18        8.87        8.05        7.62   \n",
       "4    10.13    0.622        9.39        9.02        8.18        7.77   \n",
       "\n",
       "   $r_{2, a}$  $r_{2, b}$  $r_{1, a}$  $r_{1, b}$  $\\Delta \\hat v$  $\\mu_B$  \n",
       "0        6.32        5.94        4.51        4.00             36.8     9.78  \n",
       "1        6.62        6.18        4.65        4.10             40.1     9.04  \n",
       "2        6.56        6.12        4.83        4.14             46.2     9.35  \n",
       "3        6.59        6.12        4.90        4.14             52.6     9.38  \n",
       "4        6.82        6.27        5.04        4.25             55.1     8.79  "
      ]
     },
     "execution_count": 18,
     "metadata": {},
     "output_type": "execute_result"
    }
   ],
   "source": [
    "### from linear regression\n",
    "u_reg = reg[0]\n",
    "u_reg_err = reg[4]\n",
    "print(u_reg * (const.h * const.c), u_reg_err * (const.h * const.c))\n",
    "\n",
    "### from average\n",
    "u_arr = np.array([u1, u2, u3, u4, u5])\n",
    "u_avg = np.mean(u_arr)\n",
    "u_avg_err = np.std(u_arr)\n",
    "print(u_avg, u_avg_err)\n",
    "\n",
    "### to LaTeX\n",
    "r_arr = [1000 * radii(pos) for pos in [pos1, pos2, pos3, pos4, pos5]]\n",
    "r_arr =  np.transpose(np.round(r_arr, 2))\n",
    "\n",
    "u_arr_df = 10**(24) * u_arr\n",
    "u_arr_df = np.array(u_arr_df, float)\n",
    "u_arr_df = np.round(u_arr_df, 2)\n",
    "\n",
    "data = np.array([I_arr, np.round(B_arr, 3), r_arr[0], r_arr[1], r_arr[2], r_arr[3], r_arr[4], \n",
    "                 r_arr[5], r_arr[6], r_arr[7], np.round(wave_num_arr, 1), u_arr_df])\n",
    "df = pd.DataFrame(np.transpose(data),\n",
    "                  columns=[\"$I [A]$\", \"$B [T]$\", \"$r_{4, a}$\", \"$r_{4, b}$\", \"$r_{3, a}$\", \"$r_{3, b}$\", \"$r_{2, a}$\", \n",
    "                           \"$r_{2, b}$\", \"$r_{1, a}$\", \"$r_{1, b}$\", \"$\\Delta \\hat v$\", \"$\\mu_B$\"])\n",
    "df"
   ]
  },
  {
   "cell_type": "code",
   "execution_count": 16,
   "metadata": {},
   "outputs": [
    {
     "data": {
      "image/png": "[encoded data removed]",
      "text/plain": [
       "<Figure size 480x720 with 1 Axes>"
      ]
     },
     "metadata": {
      "needs_background": "light"
     },
     "output_type": "display_data"
    }
   ],
   "source": [
    "plt.figure(figsize=(4, 6), dpi=120)\n",
    "\n",
    "plt.scatter([6]*16, pos1 - (pos1[7]+pos1[8])/2, marker='.')\n",
    "plt.scatter([7]*16, pos2 - (pos2[7]+pos2[8])/2, marker='.')\n",
    "# plt.scatter([7]*16, pos4 - (pos4[7]+pos4[8])/2, marker='.')\n",
    "plt.scatter([8]*16, pos3 - (pos3[7]+pos3[8])/2, marker='.')\n",
    "plt.scatter([9]*16, pos4 - (pos4[7]+pos4[8])/2, marker='.')\n",
    "\n",
    "plt.scatter([10]*16, pos5 - (pos5[7]+pos5[8])/2, marker='.')\n",
    "# plt.scatter([7]*16, pos7 - (pos7[7]+pos7[8])/2, marker='.')\n",
    "plt.show()"
   ]
  }
 ],
 "metadata": {
  "kernelspec": {
   "display_name": "Python 3",
   "language": "python",
   "name": "python3"
  },
  "language_info": {
   "codemirror_mode": {
    "name": "ipython",
    "version": 3
   },
   "file_extension": ".py",
   "mimetype": "text/x-python",
   "name": "python",
   "nbconvert_exporter": "python",
   "pygments_lexer": "ipython3",
   "version": "3.8.5"
  }
 },
 "nbformat": 4,
 "nbformat_minor": 4
}
