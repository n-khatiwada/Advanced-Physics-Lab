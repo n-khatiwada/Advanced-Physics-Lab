{
 "cells": [
  {
   "cell_type": "code",
   "execution_count": 1,
   "metadata": {},
   "outputs": [],
   "source": [
    "import pandas as pd\n",
    "import codecs\n",
    "import matplotlib.pyplot as plt\n",
    "import numpy as np\n",
    "import odf\n",
    "import math\n",
    "import pdfkit\n",
    "from scipy.stats import linregress\n",
    "from scipy.integrate import simps\n",
    "import scipy.constants as const\n",
    "from itertools import chain\n",
    "from statistics import mean\n",
    "from uncertainties import ufloat, ufloat_fromstr\n",
    "from uncertainties.umath import *\n",
    "from sklearn.linear_model import LinearRegression\n",
    "from scipy.optimize import curve_fit, minimize_scalar\n",
    "from lmfit.models import LorentzianModel\n",
    "from IPython.display import display, Latex\n",
    "pd.set_option('display.max_rows', None)\n",
    "pd.set_option('display.max_columns', None)\n",
    "pd.set_option('display.width', None)"
   ]
  },
  {
   "cell_type": "code",
   "execution_count": 2,
   "metadata": {},
   "outputs": [
    {
     "name": "stdout",
     "output_type": "stream",
     "text": [
      "1214.9868670146204 1212.7749849876425\n",
      "823.8047148160648 1213.8799184018694\n",
      "8.230541639162973e-07 <function d at 0x7fa12c50f1f0>\n"
     ]
    }
   ],
   "source": [
    "#Na\n",
    "ang_right = 68.5 + 9/60 - 60\n",
    "ang_left = 68.5 + 11/60 - 60\n",
    "lamda_right = 589 * 10**(-9)\n",
    "lamda_left = 589.6 * 10**(-9)\n",
    "\n",
    "def d(lamda, ang, m = 1): \n",
    "    diff = np.abs(np.sin(np.deg2rad(ang)) - np.sin(np.deg2rad(60)))\n",
    "    return (m * lamda)/diff\n",
    "    \n",
    "d_right = d(lamda_right, ang_right)\n",
    "d_left = d(lamda_left, ang_left)\n",
    "d_avg = np.mean([d_right, d_left])\n",
    "G = d_avg * 10**9\n",
    "g = 1/(d_avg * 10**3)\n",
    "g_right = 1/(d_right * 10**3)\n",
    "g_left = 1/(d_left * 10**3)\n",
    "print(g_right, g_left)\n",
    "\n",
    "print(G, g)\n",
    "print(d_right, d)"
   ]
  },
  {
   "cell_type": "code",
   "execution_count": 4,
   "metadata": {},
   "outputs": [],
   "source": [
    "#He\n",
    "llit = [667.82, 587.56, 501.57, 492.19, 447.15]\n",
    "ang = np.array([78.5 + 12/60, 75.5 + 1/60, 74.5 + 17/60, 68.5 + 15/60, 63 + 13/60]) - 60\n",
    "sine = np.sin(np.deg2rad([i for i in ang]))\n",
    "diff = np.abs(sine - np.sin(np.deg2rad(60)))\n",
    "wavelength = np.array(d_avg * diff) * 10**9"
   ]
  },
  {
   "cell_type": "code",
   "execution_count": 6,
   "metadata": {},
   "outputs": [
    {
     "name": "stdout",
     "output_type": "stream",
     "text": [
      "-823.8047148160642 713.4358107881067\n"
     ]
    },
    {
     "data": {
      "text/latex": [
       "$f(x) = -823.80x + 713.44$"
      ],
      "text/plain": [
       "<IPython.core.display.Latex object>"
      ]
     },
     "metadata": {},
     "output_type": "display_data"
    },
    {
     "data": {
      "text/latex": [
       "$R^2 = 1.00$"
      ],
      "text/plain": [
       "<IPython.core.display.Latex object>"
      ]
     },
     "metadata": {},
     "output_type": "display_data"
    },
    {
     "name": "stdout",
     "output_type": "stream",
     "text": [
      "0.26575793150007415\n"
     ]
    },
    {
     "data": {
      "image/png": "[encoded data removed]",
      "text/plain": [
       "<Figure size 750x500 with 1 Axes>"
      ]
     },
     "metadata": {
      "needs_background": "light"
     },
     "output_type": "display_data"
    }
   ],
   "source": [
    "sine = np.sin(np.deg2rad([i for i in ang]))\n",
    "X = np.array(sine).reshape(-1, 1)\n",
    "Y = np.array(wavelength).reshape(-1, 1)\n",
    "reg = LinearRegression().fit(X, Y)\n",
    "intercept = reg.intercept_\n",
    "coef = reg.coef_\n",
    "reg_value = reg.score(X, Y)\n",
    "print(coef[0, 0], intercept[0])\n",
    "plt.figure(dpi=125)\n",
    "plt.xlabel(r\"$sin(\\theta_m) - sin(\\alpha)$\")\n",
    "plt.ylabel(r\"$\\lambda \\ [nm]$\")\n",
    "plt.scatter(X, Y)\n",
    "plt.plot(X, coef[0, 0] * X + intercept[0], 'r--')\n",
    "plt.grid()\n",
    "display(Latex(\"$f(x) = {:.2f}x + {:.2f}$\".format(coef[0, 0], intercept[0])))\n",
    "display(Latex(\"$R^2 = {:.2f}$\".format(reg_value)))\n",
    "sq = np.sum(np.array([(i**2) for i in X]))\n",
    "print(sq)\n",
    "plt.show()"
   ]
  },
  {
   "cell_type": "code",
   "execution_count": 11,
   "metadata": {},
   "outputs": [
    {
     "data": {
      "text/plain": [
       "array([437.31498773, 492.3600472 , 546.84802128, 576.75982089,\n",
       "       579.59641607])"
      ]
     },
     "execution_count": 11,
     "metadata": {},
     "output_type": "execute_result"
    }
   ],
   "source": [
    "#Hg\n",
    "ang = np.array([79.5 + 5/60, 75.5 + 4/60, 71.5 + 10/60, 69.5 + 3/60, 69 + 21/60])-60\n",
    "llit = [435.8, 546.1, 577, 579.1]\n",
    "sine = np.sin(np.deg2rad([i for i in ang]))\n",
    "#diff = np.abs(sine - np.sin(np.deg2rad(60)))\n",
    "wavelength = np.array(d_avg * diff) * 10**9\n",
    "wavelength_exp = (coef[0, 0] * sine) + intercept[0]\n",
    "wavelength_exp\n",
    "#discard second value79"
   ]
  },
  {
   "cell_type": "code",
   "execution_count": 6,
   "metadata": {},
   "outputs": [
    {
     "name": "stdout",
     "output_type": "stream",
     "text": [
      "[19.58333333333333, 15.566666666666663, 11.666666666666671, 9.549999999999997, 9.349999999999994]\n"
     ]
    }
   ],
   "source": [
    "print([i for i in ang])"
   ]
  },
  {
   "cell_type": "code",
   "execution_count": 7,
   "metadata": {},
   "outputs": [
    {
     "name": "stdout",
     "output_type": "stream",
     "text": [
      "5\n"
     ]
    },
    {
     "data": {
      "text/plain": [
       "array([462.28716387, 472.34946799, 482.22125269, 546.61334397,\n",
       "       636.14751342])"
      ]
     },
     "execution_count": 7,
     "metadata": {},
     "output_type": "execute_result"
    }
   ],
   "source": [
    "#Zn\n",
    "ang = np.array([77.5 + 15/60, 77 + 1/60, 76 + 18/60, 71.5 + 11/60, 65 + 23/60])-60\n",
    "# Color: Red, 3 sky blue together, dim green, red\n",
    "sine = np.sin(np.deg2rad([i for i in ang]))\n",
    "#diff = np.abs(sine - np.sin(np.deg2rad(60)))\n",
    "print(len(sine))\n",
    "wavelength = np.array(d_avg * diff) * 10**9\n",
    "wavelength_exp = (coef[0, 0] * sine) + intercept[0]\n",
    "wavelength_exp"
   ]
  },
  {
   "cell_type": "code",
   "execution_count": 8,
   "metadata": {},
   "outputs": [
    {
     "name": "stdout",
     "output_type": "stream",
     "text": [
      "[17.75, 17.016666666666666, 16.299999999999997, 11.683333333333337, 5.38333333333334]\n"
     ]
    }
   ],
   "source": [
    "print([i for i in ang])"
   ]
  },
  {
   "cell_type": "code",
   "execution_count": 12,
   "metadata": {},
   "outputs": [
    {
     "name": "stdout",
     "output_type": "stream",
     "text": [
      "437+/-45\n",
      "492+/-40\n",
      "547+/-36\n",
      "577+/-34\n",
      "580+/-34\n"
     ]
    }
   ],
   "source": [
    "for i in range(len(sine)):\n",
    "    siney = ufloat(sine[i], 0.033)\n",
    "    m = ufloat(coef[0,0], 99)\n",
    "    c = ufloat(intercept[0], 11.85)\n",
    "    l = (m * siney) + c\n",
    "    print(\"{:2f}\".format(l))"
   ]
  },
  {
   "cell_type": "code",
   "execution_count": null,
   "metadata": {},
   "outputs": [],
   "source": []
  }
 ],
 "metadata": {
  "kernelspec": {
   "display_name": "Python 3",
   "language": "python",
   "name": "python3"
  },
  "language_info": {
   "codemirror_mode": {
    "name": "ipython",
    "version": 3
   },
   "file_extension": ".py",
   "mimetype": "text/x-python",
   "name": "python",
   "nbconvert_exporter": "python",
   "pygments_lexer": "ipython3",
   "version": "3.8.5"
  }
 },
 "nbformat": 4,
 "nbformat_minor": 4
}
