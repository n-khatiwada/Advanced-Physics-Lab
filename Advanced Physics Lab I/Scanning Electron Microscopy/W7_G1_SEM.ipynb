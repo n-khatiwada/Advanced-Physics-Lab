{
 "cells": [
  {
   "cell_type": "markdown",
   "metadata": {},
   "source": [
    "### notes\n",
    "\n",
    "- data range that best matches the theory and assumptions\n",
    "- the linear fit was done using the form\n",
    "$$U = \\dfrac{e}{m} \\dfrac{(Br)^2}{2}.$$"
   ]
  },
  {
   "cell_type": "code",
   "execution_count": 35,
   "metadata": {},
   "outputs": [
    {
     "name": "stdout",
     "output_type": "stream",
     "text": [
      "r = 0.05 m: 165990531185.512\n",
      "r = 0.04 m: 165354956224.03665\n",
      "r = 0.03 m: 167102917160.34003\n",
      "r = 0.02 m: 150009798807.3348\n"
     ]
    },
    {
     "data": {
      "image/png": "[encoded data removed]",
      "text/plain": [
       "<Figure size 432x288 with 1 Axes>"
      ]
     },
     "metadata": {
      "needs_background": "light"
     },
     "output_type": "display_data"
    }
   ],
   "source": [
    "import pandas as pd\n",
    "import codecs\n",
    "import numpy as np\n",
    "import matplotlib.pyplot as plt\n",
    "from scipy import stats\n",
    "import os\n",
    "from IPython.display import display, Latex\n",
    "\n",
    "# parameters\n",
    "mu = 4 * np.pi * 10**(-7)\n",
    "n = 154\n",
    "R = 0.2  # dR = 0.005\n",
    "theo = 1.759 * 10**(11)\n",
    "\n",
    "def pltset(x, y, title=''):\n",
    "    plt.xlabel(x)\n",
    "    plt.ylabel(y)\n",
    "    plt.title(title)\n",
    "    plt.grid()\n",
    "    plt.legend()\n",
    "    \n",
    "def B(i):\n",
    "    return ((4/5)**(3/2) * mu * n / R) * i\n",
    "\n",
    "def fit(r, I, U):\n",
    "    U = np.array(U)\n",
    "    mag = B(np.array(I))\n",
    "    xx = np.square(mag) * r**2 / 2\n",
    "    fit = stats.linregress(xx, U)\n",
    "    print('r = {} m: {}'.format(r, fit[0]))\n",
    "    plt.scatter(xx, U, label='r = {} m'.format(r))\n",
    "    \n",
    "# r = 5 cm\n",
    "# U5 = np.array([356, 343, 327, 311, 293, 271, 254, 246, 228, 212, 199, 184, 167])\n",
    "# I5 = np.array([1.77, 1.73, 1.68, 1.63, 1.58, 1.51, 1.46, 1.42, 1.36, 1.29, 1.24, 1.16, 1.06])\n",
    "U5 = np.array([356, 343, 327, 311, 293, 271, 254, 246, 228, 212, 199])\n",
    "I5 = np.array([1.77, 1.73, 1.68, 1.63, 1.58, 1.51, 1.46, 1.42, 1.36, 1.29, 1.24])\n",
    "\n",
    "    \n",
    "# r = 4 cm\n",
    "U4 = np.array([356, 335, 318, 292, 271, 251, 227, 210, 191])\n",
    "I4 = np.array([2.22, 2.15, 2.09, 2, 1.92, 1.82, 1.71, 1.63, 1.53])\n",
    "\n",
    "# r = 3 cm\n",
    "U3 = np.array([356, 347, 324, 293, 264, 249, 230, 210, 197])\n",
    "I3 = np.array([3.03, 3, 2.9, 2.75, 2.6, 2.51, 2.4, 2.27, 2.2])\n",
    "\n",
    "# r = 2 cm\n",
    "# U2 = np.array([247, 228, 208, 190, 178, 164, 158, 140])\n",
    "# I2 = np.array([3.92, 3.76, 3.57, 3.39, 3.25, 3.06, 2.76, 2.57])\n",
    "U2 = np.array([247, 228, 208, 190, 178])\n",
    "I2 = np.array([3.92, 3.76, 3.57, 3.39, 3.25])\n",
    "\n",
    "# # r = 4 cm again\n",
    "# U = np.array([187, 197, 207, 216, 228, 335, 250, 257, 272, 281, 292, 308, 318, 330])\n",
    "# I = np.array([1.495, 1.545, 1.60, 1.645, 1.705, 1.755, 1.80, 1.85, 1.90, 1.95, 2.005, 2.055, 2.10, 2.15])\n",
    "\n",
    "# r = 4 cm again again\n",
    "# U = np.array([356, 345, 336, 319, 307, 297, 284, 274, 266, 255, 246, 236, 228, 222, 214, 208, 201, 192, 184, 180])\n",
    "# I = np.array([3.02, 3.00, 2.94, 2.87, 2.81, 2.75, 2.70, 2.65, 2.60, 2.54, 2.48, 2.44, 2.39, 2.34, 2.30, 2.25, 2.20,\n",
    "#               2.12, 2.07, 2.02])\n",
    "\n",
    "xl = '$\\dfrac{(Br)^2}{2}\\ [10^{-9}\\ T^2m^2]$'\n",
    "yl = '$U\\ [V]$'\n",
    "fit(0.05, I5, U5)\n",
    "fit(0.04, I4, U4)\n",
    "fit(0.03, I3, U3)\n",
    "fit(0.02, I2, U2)\n",
    "plt.xlim(0.0000000006, 0.0000000021)\n",
    "pltset(xl, yl)\n",
    "plt.tight_layout()\n",
    "plt.savefig('specific_charge.pdf')"
   ]
  },
  {
   "cell_type": "code",
   "execution_count": 36,
   "metadata": {},
   "outputs": [],
   "source": [
    "# def em(V, slope):  # from B vs 1/r\n",
    "#     val = 2 * V * slope ** (-2)  # e/m compared to theoretical value\n",
    "#     #display(Latex('$({:.4f} \\pm {}) \\times 10^{11}$'.format(val / (10**11), 1)))\n",
    "#     return val  \n",
    "    \n",
    "# d = np.array([0.02, 0.03, 0.04, 0.05])\n",
    "\n",
    "# V1 = 200\n",
    "# I1 = np.array([3.5, 2.25, 1.59, 1.26])\n",
    "# B1 = B(I1)\n",
    "# # fit1 = stats.linregress(1/d, B1)\n",
    "# # k1 = em(V1, fit1[0])\n",
    "\n",
    "# V2 = 150\n",
    "# I2 = np.array([2.85, 1.81, 1.38, 0.97])\n",
    "# B2 = B(I2)\n",
    "# fit2 = stats.linregress(1/d, B2)\n",
    "# k2 = em(V2, fit2[0])\n",
    "\n",
    "# V3 = 250\n",
    "# I3 = np.array([3.93, 2.52, 1.83, 1.46])\n",
    "# B3 = B(I3)\n",
    "# fit3 = stats.linregress(1/d, B3)\n",
    "# k3 = em(V3, fit3[0])\n",
    "\n",
    "# plt.plot(1/d, B1)\n",
    "# plt.plot(1/d, B2)\n",
    "# plt.plot(1/d, B3)\n",
    "\n",
    "# print(np.array([k1, k2, k3]))\n",
    "# print((np.array([k1, k2, k3]) / theo - 1) * 100)\n",
    "# print(fit1[2]**2, fit2[2]**2, fit3[2]**2)\n",
    "\n",
    "# y = np.array([V1, V2, V3])\n",
    "# for i in range(0, 4):\n",
    "#     x = np.array([(B1[i] * d[i])**2 / 2, (B2[i] * d[i])**2 / 2, (B3[i] * d[i])**2 / 2])\n",
    "#     plt.scatter(x, y)\n",
    "#     plt.xlim(min(x), max(x))\n",
    "#     plt.show()\n",
    "#     fit = stats.linregress(x, y)\n",
    "#     print(fit[0] / theo)"
   ]
  },
  {
   "cell_type": "code",
   "execution_count": null,
   "metadata": {},
   "outputs": [],
   "source": []
  }
 ],
 "metadata": {
  "kernelspec": {
   "display_name": "Python 3",
   "language": "python",
   "name": "python3"
  },
  "language_info": {
   "codemirror_mode": {
    "name": "ipython",
    "version": 3
   },
   "file_extension": ".py",
   "mimetype": "text/x-python",
   "name": "python",
   "nbconvert_exporter": "python",
   "pygments_lexer": "ipython3",
   "version": "3.7.6"
  }
 },
 "nbformat": 4,
 "nbformat_minor": 4
}
