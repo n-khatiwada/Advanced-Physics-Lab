{
 "cells": [
  {
   "cell_type": "code",
   "execution_count": 129,
   "metadata": {},
   "outputs": [],
   "source": [
    "import pandas as pd\n",
    "import codecs\n",
    "import matplotlib.pyplot as plt\n",
    "import numpy as np\n",
    "import odf\n",
    "import math\n",
    "import pdfkit\n",
    "from uncertainties import ufloat, ufloat_fromstr\n",
    "from sklearn.linear_model import LinearRegression\n",
    "from IPython.display import display, Latex\n",
    "pd.set_option('display.max_rows', None)\n",
    "pd.set_option('display.max_columns', None)\n",
    "pd.set_option('display.width', None)"
   ]
  },
  {
   "cell_type": "code",
   "execution_count": 62,
   "metadata": {},
   "outputs": [
    {
     "data": {
      "text/html": [
       "<div>\n",
       "<style scoped>\n",
       "    .dataframe tbody tr th:only-of-type {\n",
       "        vertical-align: middle;\n",
       "    }\n",
       "\n",
       "    .dataframe tbody tr th {\n",
       "        vertical-align: top;\n",
       "    }\n",
       "\n",
       "    .dataframe thead th {\n",
       "        text-align: right;\n",
       "    }\n",
       "</style>\n",
       "<table border=\"1\" class=\"dataframe\">\n",
       "  <thead>\n",
       "    <tr style=\"text-align: right;\">\n",
       "      <th></th>\n",
       "      <th>Height</th>\n",
       "      <th>$\\overline{t}$</th>\n",
       "      <th>T</th>\n",
       "      <th>$\\omega^2$</th>\n",
       "    </tr>\n",
       "  </thead>\n",
       "  <tbody>\n",
       "    <tr>\n",
       "      <th>0</th>\n",
       "      <td>60</td>\n",
       "      <td>0.855</td>\n",
       "      <td>6.84</td>\n",
       "      <td>0.843816</td>\n",
       "    </tr>\n",
       "    <tr>\n",
       "      <th>1</th>\n",
       "      <td>70</td>\n",
       "      <td>0.555</td>\n",
       "      <td>4.44</td>\n",
       "      <td>2.002598</td>\n",
       "    </tr>\n",
       "    <tr>\n",
       "      <th>2</th>\n",
       "      <td>80</td>\n",
       "      <td>0.465</td>\n",
       "      <td>3.72</td>\n",
       "      <td>2.852817</td>\n",
       "    </tr>\n",
       "  </tbody>\n",
       "</table>\n",
       "</div>"
      ],
      "text/plain": [
       "   Height  $\\overline{t}$     T  $\\omega^2$\n",
       "0      60           0.855  6.84    0.843816\n",
       "1      70           0.555  4.44    2.002598\n",
       "2      80           0.465  3.72    2.852817"
      ]
     },
     "execution_count": 62,
     "metadata": {},
     "output_type": "execute_result"
    }
   ],
   "source": [
    "dic = {'Height': [80, 80, 80, 80, 70, 70, 70, 70, 60, 60, 60, 60],\n",
    "      '$\\overline{t}$': [0.45, 0.46, 0.47, 0.48, 0.54, 0.55, 0.56, 0.57, 0.84, 0.85, 0.86, 0.87]}\n",
    "df = pd.DataFrame(dic)\n",
    "df = df.groupby(df['Height'], as_index = False).mean()\n",
    "df['T'] = df['$\\overline{t}$'] * 8\n",
    "df[\"$\\omega^2$\"] = (4 * (np.pi ** 2))/ ((df[\"T\"]) ** 2)\n",
    "df"
   ]
  },
  {
   "cell_type": "code",
   "execution_count": 90,
   "metadata": {},
   "outputs": [
    {
     "data": {
      "image/png": "[encoded data removed]",
      "text/plain": [
       "<Figure size 432x288 with 1 Axes>"
      ]
     },
     "metadata": {
      "needs_background": "light"
     },
     "output_type": "display_data"
    },
    {
     "data": {
      "text/latex": [
       "$R^2$ = 0.992197977567046"
      ],
      "text/plain": [
       "<IPython.core.display.Latex object>"
      ]
     },
     "metadata": {},
     "output_type": "display_data"
    },
    {
     "data": {
      "text/latex": [
       "$f(x) = 0.10045005296191198x -5.131760281139593$"
      ],
      "text/plain": [
       "<IPython.core.display.Latex object>"
      ]
     },
     "metadata": {},
     "output_type": "display_data"
    },
    {
     "name": "stdout",
     "output_type": "stream",
     "text": [
      "[-5.13176028] [[0.10045005]]\n"
     ]
    }
   ],
   "source": [
    "X = np.array(df['Height']).reshape(-1, 1)\n",
    "Y = np.array(df[\"$\\omega^2$\"]).reshape(-1, 1)\n",
    "reg = LinearRegression().fit(X, Y)\n",
    "Y_pred = reg.predict(X)\n",
    "reg_value = reg.score(X, Y)\n",
    "intercept = reg.intercept_\n",
    "coef = reg.coef_\n",
    "\n",
    "plt.scatter(X, Y)\n",
    "plt.plot(X, Y_pred, color='blue')\n",
    "plt.grid()\n",
    "plt.show()\n",
    "display(Latex(\"$R^2$ = {}\".format(reg_value)))\n",
    "display(Latex(\"$f(x) = {}x {}$\".format(coef[0, 0], intercept[0])))"
   ]
  },
  {
   "cell_type": "code",
   "execution_count": 109,
   "metadata": {
    "scrolled": true
   },
   "outputs": [
    {
     "name": "stdout",
     "output_type": "stream",
     "text": [
      "\\begin{tabular}{|l|l|l|l|l|}\n",
      "\\toprule\n",
      "{} &  Height &  $\\overline{t}$ &     T &  $\\omega^2$ \\\\\n",
      "\\midrule\n",
      "0 &      60 &           0.855 &  6.84 &    0.843816 \\\\\n",
      "1 &      70 &           0.555 &  4.44 &    2.002598 \\\\\n",
      "2 &      80 &           0.465 &  3.72 &    2.852817 \\\\\n",
      "\\bottomrule\n",
      "\\end{tabular}\n",
      "\n"
     ]
    }
   ],
   "source": [
    "print(df.to_latex(index=True, column_format='|l' * 5 + '|', escape=False)) # Do you want to show index in table?"
   ]
  },
  {
   "cell_type": "markdown",
   "metadata": {},
   "source": [
    "## Error Analysis"
   ]
  },
  {
   "cell_type": "code",
   "execution_count": 143,
   "metadata": {},
   "outputs": [
    {
     "name": "stdout",
     "output_type": "stream",
     "text": [
      "(2.46+/-0.12)e-08 (2.48+/-0.13)e-08 (6.9+/-0.7)e-12\n"
     ]
    }
   ],
   "source": [
    "C = ufloat_fromstr(\"(10+/-0.5)e-09\")\n",
    "V1 = ufloat(2.46, 0.01)\n",
    "V2 = ufloat(2.48, 0.02)\n",
    "Q1 = C * V1\n",
    "Q2 = C * V2\n",
    "m = ufloat_fromstr(\"(7.02+/-0.09)e-6\")\n",
    "e = (Q1 * Q2)/(4 * np.pi * m)\n",
    "print(Q1, Q2, e)"
   ]
  },
  {
   "cell_type": "code",
   "execution_count": 8,
   "metadata": {},
   "outputs": [
    {
     "data": {
      "text/html": [
       "<div>\n",
       "<style scoped>\n",
       "    .dataframe tbody tr th:only-of-type {\n",
       "        vertical-align: middle;\n",
       "    }\n",
       "\n",
       "    .dataframe tbody tr th {\n",
       "        vertical-align: top;\n",
       "    }\n",
       "\n",
       "    .dataframe thead th {\n",
       "        text-align: right;\n",
       "    }\n",
       "</style>\n",
       "<table border=\"1\" class=\"dataframe\">\n",
       "  <thead>\n",
       "    <tr style=\"text-align: right;\">\n",
       "      <th></th>\n",
       "      <th>Height</th>\n",
       "      <th>T</th>\n",
       "      <th>$\\omega^2$</th>\n",
       "    </tr>\n",
       "  </thead>\n",
       "  <tbody>\n",
       "    <tr>\n",
       "      <th>0</th>\n",
       "      <td>80</td>\n",
       "      <td>0.712</td>\n",
       "      <td>77.875303</td>\n",
       "    </tr>\n",
       "    <tr>\n",
       "      <th>1</th>\n",
       "      <td>75</td>\n",
       "      <td>0.728</td>\n",
       "      <td>74.489829</td>\n",
       "    </tr>\n",
       "    <tr>\n",
       "      <th>2</th>\n",
       "      <td>70</td>\n",
       "      <td>0.736</td>\n",
       "      <td>72.879286</td>\n",
       "    </tr>\n",
       "    <tr>\n",
       "      <th>3</th>\n",
       "      <td>65</td>\n",
       "      <td>0.784</td>\n",
       "      <td>64.228475</td>\n",
       "    </tr>\n",
       "    <tr>\n",
       "      <th>4</th>\n",
       "      <td>60</td>\n",
       "      <td>0.816</td>\n",
       "      <td>59.289723</td>\n",
       "    </tr>\n",
       "    <tr>\n",
       "      <th>5</th>\n",
       "      <td>55</td>\n",
       "      <td>0.824</td>\n",
       "      <td>58.144055</td>\n",
       "    </tr>\n",
       "    <tr>\n",
       "      <th>6</th>\n",
       "      <td>50</td>\n",
       "      <td>0.888</td>\n",
       "      <td>50.064952</td>\n",
       "    </tr>\n",
       "  </tbody>\n",
       "</table>\n",
       "</div>"
      ],
      "text/plain": [
       "   Height      T  $\\omega^2$\n",
       "0      80  0.712   77.875303\n",
       "1      75  0.728   74.489829\n",
       "2      70  0.736   72.879286\n",
       "3      65  0.784   64.228475\n",
       "4      60  0.816   59.289723\n",
       "5      55  0.824   58.144055\n",
       "6      50  0.888   50.064952"
      ]
     },
     "execution_count": 8,
     "metadata": {},
     "output_type": "execute_result"
    }
   ],
   "source": [
    "dic1 = {'Height': [80, 75, 70, 65, 60, 55, 50],\n",
    "       'T': [0.712, 0.728, 0.736, 0.784, 0.816, 0.824, 0.888]}\n",
    "df1 = pd.DataFrame(dic1)\n",
    "df1[\"$\\omega^2$\"] = (4 * (n p.pi ** 2))/ ((df1[\"T\"]) ** 2)\n",
    "df1"
   ]
  },
  {
   "cell_type": "code",
   "execution_count": 10,
   "metadata": {},
   "outputs": [
    {
     "data": {
      "text/html": [
       "<div>\n",
       "<style scoped>\n",
       "    .dataframe tbody tr th:only-of-type {\n",
       "        vertical-align: middle;\n",
       "    }\n",
       "\n",
       "    .dataframe tbody tr th {\n",
       "        vertical-align: top;\n",
       "    }\n",
       "\n",
       "    .dataframe thead th {\n",
       "        text-align: right;\n",
       "    }\n",
       "</style>\n",
       "<table border=\"1\" class=\"dataframe\">\n",
       "  <thead>\n",
       "    <tr style=\"text-align: right;\">\n",
       "      <th></th>\n",
       "      <th>Height</th>\n",
       "      <th>T</th>\n",
       "      <th>$\\omega^2$</th>\n",
       "    </tr>\n",
       "  </thead>\n",
       "  <tbody>\n",
       "    <tr>\n",
       "      <th>0</th>\n",
       "      <td>80</td>\n",
       "      <td>0.552</td>\n",
       "      <td>129.563175</td>\n",
       "    </tr>\n",
       "    <tr>\n",
       "      <th>1</th>\n",
       "      <td>75</td>\n",
       "      <td>0.584</td>\n",
       "      <td>115.753476</td>\n",
       "    </tr>\n",
       "    <tr>\n",
       "      <th>2</th>\n",
       "      <td>70</td>\n",
       "      <td>0.592</td>\n",
       "      <td>112.646142</td>\n",
       "    </tr>\n",
       "    <tr>\n",
       "      <th>3</th>\n",
       "      <td>65</td>\n",
       "      <td>0.608</td>\n",
       "      <td>106.795408</td>\n",
       "    </tr>\n",
       "    <tr>\n",
       "      <th>4</th>\n",
       "      <td>60</td>\n",
       "      <td>0.648</td>\n",
       "      <td>94.017722</td>\n",
       "    </tr>\n",
       "    <tr>\n",
       "      <th>5</th>\n",
       "      <td>55</td>\n",
       "      <td>0.664</td>\n",
       "      <td>89.541338</td>\n",
       "    </tr>\n",
       "    <tr>\n",
       "      <th>6</th>\n",
       "      <td>50</td>\n",
       "      <td>0.696</td>\n",
       "      <td>81.496932</td>\n",
       "    </tr>\n",
       "  </tbody>\n",
       "</table>\n",
       "</div>"
      ],
      "text/plain": [
       "   Height      T  $\\omega^2$\n",
       "0      80  0.552  129.563175\n",
       "1      75  0.584  115.753476\n",
       "2      70  0.592  112.646142\n",
       "3      65  0.608  106.795408\n",
       "4      60  0.648   94.017722\n",
       "5      55  0.664   89.541338\n",
       "6      50  0.696   81.496932"
      ]
     },
     "execution_count": 10,
     "metadata": {},
     "output_type": "execute_result"
    }
   ],
   "source": [
    "dic2 = {'Height': [80, 75, 70, 65, 60, 55, 50],\n",
    "       'T': [0.552, 0.584, 0.592, 0.608, 0.648, 0.664, 0.696]}\n",
    "df2 = pd.DataFrame(dic2)\n",
    "df2[\"$\\omega^2$\"] = (4 * (np.pi ** 2))/ ((df2[\"T\"]) ** 2)\n",
    "df2"
   ]
  },
  {
   "cell_type": "code",
   "execution_count": 17,
   "metadata": {},
   "outputs": [
    {
     "data": {
      "text/html": [
       "<div>\n",
       "<style scoped>\n",
       "    .dataframe tbody tr th:only-of-type {\n",
       "        vertical-align: middle;\n",
       "    }\n",
       "\n",
       "    .dataframe tbody tr th {\n",
       "        vertical-align: top;\n",
       "    }\n",
       "\n",
       "    .dataframe thead th {\n",
       "        text-align: right;\n",
       "    }\n",
       "</style>\n",
       "<table border=\"1\" class=\"dataframe\">\n",
       "  <thead>\n",
       "    <tr style=\"text-align: right;\">\n",
       "      <th></th>\n",
       "      <th>Height</th>\n",
       "      <th>T</th>\n",
       "      <th>$\\omega^2$</th>\n",
       "    </tr>\n",
       "  </thead>\n",
       "  <tbody>\n",
       "    <tr>\n",
       "      <th>0</th>\n",
       "      <td>80</td>\n",
       "      <td>1.030</td>\n",
       "      <td>37.212195</td>\n",
       "    </tr>\n",
       "    <tr>\n",
       "      <th>1</th>\n",
       "      <td>70</td>\n",
       "      <td>1.094</td>\n",
       "      <td>32.985654</td>\n",
       "    </tr>\n",
       "    <tr>\n",
       "      <th>2</th>\n",
       "      <td>60</td>\n",
       "      <td>1.216</td>\n",
       "      <td>26.698852</td>\n",
       "    </tr>\n",
       "    <tr>\n",
       "      <th>3</th>\n",
       "      <td>50</td>\n",
       "      <td>1.332</td>\n",
       "      <td>22.251090</td>\n",
       "    </tr>\n",
       "    <tr>\n",
       "      <th>4</th>\n",
       "      <td>40</td>\n",
       "      <td>1.428</td>\n",
       "      <td>19.359909</td>\n",
       "    </tr>\n",
       "  </tbody>\n",
       "</table>\n",
       "</div>"
      ],
      "text/plain": [
       "   Height      T  $\\omega^2$\n",
       "0      80  1.030   37.212195\n",
       "1      70  1.094   32.985654\n",
       "2      60  1.216   26.698852\n",
       "3      50  1.332   22.251090\n",
       "4      40  1.428   19.359909"
      ]
     },
     "execution_count": 17,
     "metadata": {},
     "output_type": "execute_result"
    }
   ],
   "source": [
    "dic4 = {'Height': [80, 70, 60, 50, 40],\n",
    "      'T': [1.030, 1.094, 1.216, 1.332, 1.428]}\n",
    "df4 = pd.DataFrame(dic4)\n",
    "df4[\"$\\omega^2$\"] = (4 * (np.pi ** 2))/ ((df4[\"T\"]) ** 2)\n",
    "df4"
   ]
  },
  {
   "cell_type": "code",
   "execution_count": null,
   "metadata": {},
   "outputs": [],
   "source": []
  }
 ],
 "metadata": {
  "kernelspec": {
   "display_name": "Python 3",
   "language": "python",
   "name": "python3"
  },
  "language_info": {
   "codemirror_mode": {
    "name": "ipython",
    "version": 3
   },
   "file_extension": ".py",
   "mimetype": "text/x-python",
   "name": "python",
   "nbconvert_exporter": "python",
   "pygments_lexer": "ipython3",
   "version": "3.8.5"
  }
 },
 "nbformat": 4,
 "nbformat_minor": 4
}
