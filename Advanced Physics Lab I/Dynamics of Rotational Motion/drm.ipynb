{
 "cells": [
  {
   "cell_type": "code",
   "execution_count": 6,
   "metadata": {},
   "outputs": [],
   "source": [
    "import pandas as pd\n",
    "import codecs\n",
    "import matplotlib.pyplot as plt\n",
    "import numpy as np\n",
    "import odf\n",
    "import math\n",
    "import pdfkit\n",
    "from uncertainties import ufloat, ufloat_fromstr\n",
    "from sklearn.linear_model import LinearRegression\n",
    "from IPython.display import display, Latex\n",
    "pd.set_option('display.max_rows', None)\n",
    "pd.set_option('display.max_columns', None)\n",
    "pd.set_option('display.width', None)\n",
    "#I = m * (2 * 9.8 * k - (r**2))\n",
    "\n",
    "xaxis = 'Height'\n",
    "yaxis = '$\\overline{t}$'"
   ]
  },
  {
   "cell_type": "markdown",
   "metadata": {},
   "source": [
    "## Part 1"
   ]
  },
  {
   "cell_type": "code",
   "execution_count": 59,
   "metadata": {},
   "outputs": [
    {
     "data": {
      "text/html": [
       "<div>\n",
       "<style scoped>\n",
       "    .dataframe tbody tr th:only-of-type {\n",
       "        vertical-align: middle;\n",
       "    }\n",
       "\n",
       "    .dataframe tbody tr th {\n",
       "        vertical-align: top;\n",
       "    }\n",
       "\n",
       "    .dataframe thead th {\n",
       "        text-align: right;\n",
       "    }\n",
       "</style>\n",
       "<table border=\"1\" class=\"dataframe\">\n",
       "  <thead>\n",
       "    <tr style=\"text-align: right;\">\n",
       "      <th></th>\n",
       "      <th>Height</th>\n",
       "      <th>$\\overline{t}$</th>\n",
       "      <th>T</th>\n",
       "      <th>$\\omega^2$</th>\n",
       "    </tr>\n",
       "  </thead>\n",
       "  <tbody>\n",
       "    <tr>\n",
       "      <th>0</th>\n",
       "      <td>30</td>\n",
       "      <td>0.216100</td>\n",
       "      <td>1.7288</td>\n",
       "      <td>13.209009</td>\n",
       "    </tr>\n",
       "    <tr>\n",
       "      <th>1</th>\n",
       "      <td>40</td>\n",
       "      <td>0.183000</td>\n",
       "      <td>1.4640</td>\n",
       "      <td>18.419489</td>\n",
       "    </tr>\n",
       "    <tr>\n",
       "      <th>2</th>\n",
       "      <td>50</td>\n",
       "      <td>0.165150</td>\n",
       "      <td>1.3212</td>\n",
       "      <td>22.616355</td>\n",
       "    </tr>\n",
       "    <tr>\n",
       "      <th>3</th>\n",
       "      <td>60</td>\n",
       "      <td>0.154300</td>\n",
       "      <td>1.2344</td>\n",
       "      <td>25.908837</td>\n",
       "    </tr>\n",
       "    <tr>\n",
       "      <th>4</th>\n",
       "      <td>70</td>\n",
       "      <td>0.140675</td>\n",
       "      <td>1.1254</td>\n",
       "      <td>31.170654</td>\n",
       "    </tr>\n",
       "    <tr>\n",
       "      <th>5</th>\n",
       "      <td>80</td>\n",
       "      <td>0.132650</td>\n",
       "      <td>1.0612</td>\n",
       "      <td>35.056234</td>\n",
       "    </tr>\n",
       "  </tbody>\n",
       "</table>\n",
       "</div>"
      ],
      "text/plain": [
       "   Height  $\\overline{t}$       T  $\\omega^2$\n",
       "0      30        0.216100  1.7288   13.209009\n",
       "1      40        0.183000  1.4640   18.419489\n",
       "2      50        0.165150  1.3212   22.616355\n",
       "3      60        0.154300  1.2344   25.908837\n",
       "4      70        0.140675  1.1254   31.170654\n",
       "5      80        0.132650  1.0612   35.056234"
      ]
     },
     "execution_count": 59,
     "metadata": {},
     "output_type": "execute_result"
    }
   ],
   "source": [
    "m30d = {xaxis : [i for i in [80] * 4] + [i for i in [70] * 4] + [i for i in [60] * 4] + [i for i in [50] * 4] + [i for i in [40] * 4] + [i for i in [30] * 4],\n",
    "       yaxis : [0.1303, 0.1323, 0.1320, 0.1360,\n",
    "                        0.1380, 0.1403, 0.1400, 0.1444,\n",
    "                        0.1512, 0.1527, 0.1538, 0.1595,\n",
    "                        0.1613, 0.1644, 0.1646, 0.1703,\n",
    "                        0.1783, 0.1819, 0.1824, 0.1894,\n",
    "                        0.2091, 0.2127, 0.2159, 0.2267]\n",
    "            }\n",
    "m30 = pd.DataFrame(m30d)\n",
    "m30 = m30.groupby([xaxis], as_index = False).mean()\n",
    "m30['T'] = m30[yaxis] * 8\n",
    "m30[\"$\\omega^2$\"] = (4 * (np.pi ** 2))/ ((m30[\"T\"]) ** 2)\n",
    "m30"
   ]
  },
  {
   "cell_type": "code",
   "execution_count": 3,
   "metadata": {},
   "outputs": [
    {
     "name": "stdout",
     "output_type": "stream",
     "text": [
      "\\begin{table}\n",
      "\\centering\n",
      "\\caption{Table of $h$ vs $\\omega^2$ for $m=30g$}\n",
      "\\begin{tabular}{lrrrr}\n",
      "\\toprule\n",
      "{} &  Height &  $\\overline{t}$ &       T &  $\\omega^2$ \\\\\n",
      "\\midrule\n",
      "0 &      30 &        0.216100 &  1.7288 &   13.209009 \\\\\n",
      "1 &      40 &        0.183000 &  1.4640 &   18.419489 \\\\\n",
      "2 &      50 &        0.165150 &  1.3212 &   22.616355 \\\\\n",
      "3 &      60 &        0.154300 &  1.2344 &   25.908837 \\\\\n",
      "4 &      70 &        0.140675 &  1.1254 &   31.170654 \\\\\n",
      "5 &      80 &        0.132650 &  1.0612 &   35.056234 \\\\\n",
      "\\bottomrule\n",
      "\\end{tabular}\n",
      "\\end{table}\n",
      "\n"
     ]
    }
   ],
   "source": [
    "print(m30.to_latex(index=True, escape=False, caption=\"Table of $h$ vs $\\omega^2$ for $m=30g$\")) # Do you want to show index in table?"
   ]
  },
  {
   "cell_type": "code",
   "execution_count": 60,
   "metadata": {},
   "outputs": [
    {
     "data": {
      "text/latex": [
       "$R^2$ = 0.9967145034156386"
      ],
      "text/plain": [
       "<IPython.core.display.Latex object>"
      ]
     },
     "metadata": {},
     "output_type": "display_data"
    },
    {
     "data": {
      "text/latex": [
       "$f(x) = 0.02313604038636388x -0.01444448971893475$"
      ],
      "text/plain": [
       "<IPython.core.display.Latex object>"
      ]
     },
     "metadata": {},
     "output_type": "display_data"
    },
    {
     "data": {
      "text/latex": [
       "$I$ =     0.0136 $kgm^2$"
      ],
      "text/plain": [
       "<IPython.core.display.Latex object>"
      ]
     },
     "metadata": {},
     "output_type": "display_data"
    },
    {
     "data": {
      "image/png": "[encoded data removed]",
      "text/plain": [
       "<Figure size 432x288 with 1 Axes>"
      ]
     },
     "metadata": {
      "needs_background": "light"
     },
     "output_type": "display_data"
    }
   ],
   "source": [
    "X = np.array(m30['$\\omega^2$']).reshape(-1, 1)\n",
    "Y = np.array(m30[xaxis]/100).reshape(-1, 1)\n",
    "reg = LinearRegression().fit(X, Y)\n",
    "Y_pred = reg.predict(X)\n",
    "reg_value = reg.score(X, Y)\n",
    "intercept = reg.intercept_\n",
    "coef = reg.coef_\n",
    "I = (30/1000) * (2 * 9.8 * coef - ((22.54/1000)**2))\n",
    "\n",
    "plt.scatter(X, Y)\n",
    "plt.plot(X, Y_pred, color='blue')\n",
    "plt.xlabel(\"Height [$cm$]\")\n",
    "plt.ylabel(\"$\\omega^2$\")\n",
    "plt.title(\"Graph of $h$ vs $\\omega^2$\")\n",
    "plt.grid()\n",
    "plt.show()\n",
    "display(Latex(\"$R^2$ = {}\".format(reg_value)))\n",
    "display(Latex(\"$f(x) = {}x {}$\".format(coef[0, 0], intercept[0])))\n",
    "display(Latex(\"$I$ = {:10.4f} $kgm^2$\".format(I[0, 0])))"
   ]
  },
  {
   "cell_type": "code",
   "execution_count": 27,
   "metadata": {},
   "outputs": [
    {
     "data": {
      "text/plain": [
       "Height            7.637626\n",
       "$\\overline{t}$    0.012500\n",
       "T                 0.099999\n",
       "$\\omega^2$        3.295754\n",
       "dtype: float64"
      ]
     },
     "execution_count": 27,
     "metadata": {},
     "output_type": "execute_result"
    }
   ],
   "source": [
    "m30.sem()"
   ]
  },
  {
   "cell_type": "code",
   "execution_count": 56,
   "metadata": {},
   "outputs": [
    {
     "data": {
      "image/png": "[encoded data removed]",
      "text/plain": [
       "<Figure size 432x288 with 1 Axes>"
      ]
     },
     "metadata": {
      "needs_background": "light"
     },
     "output_type": "display_data"
    }
   ],
   "source": [
    "plt.scatter(X, Y)\n",
    "plt.errorbar(X, Y, yerr=m30.sem(axis=0)[1]) #plots error bar in terms of std of t, i.e 0.012500\n",
    "plt.grid()                                  # That means this can be used for statistical error calculation."
   ]
  },
  {
   "cell_type": "code",
   "execution_count": 49,
   "metadata": {},
   "outputs": [
    {
     "data": {
      "text/plain": [
       "0.012499819582031313"
      ]
     },
     "execution_count": 49,
     "metadata": {},
     "output_type": "execute_result"
    }
   ],
   "source": [
    "m30.sem(axis=0)[1]"
   ]
  },
  {
   "cell_type": "code",
   "execution_count": 5,
   "metadata": {},
   "outputs": [
    {
     "data": {
      "text/html": [
       "<div>\n",
       "<style scoped>\n",
       "    .dataframe tbody tr th:only-of-type {\n",
       "        vertical-align: middle;\n",
       "    }\n",
       "\n",
       "    .dataframe tbody tr th {\n",
       "        vertical-align: top;\n",
       "    }\n",
       "\n",
       "    .dataframe thead th {\n",
       "        text-align: right;\n",
       "    }\n",
       "</style>\n",
       "<table border=\"1\" class=\"dataframe\">\n",
       "  <thead>\n",
       "    <tr style=\"text-align: right;\">\n",
       "      <th></th>\n",
       "      <th>Height [$cm$]</th>\n",
       "      <th>$\\overline{t} [s]$</th>\n",
       "      <th>T [$s$]</th>\n",
       "      <th>$\\omega^2$</th>\n",
       "    </tr>\n",
       "  </thead>\n",
       "  <tbody>\n",
       "    <tr>\n",
       "      <th>0</th>\n",
       "      <td>30</td>\n",
       "      <td>0.140000</td>\n",
       "      <td>1.1200</td>\n",
       "      <td>31.471953</td>\n",
       "    </tr>\n",
       "    <tr>\n",
       "      <th>1</th>\n",
       "      <td>40</td>\n",
       "      <td>0.123250</td>\n",
       "      <td>0.9860</td>\n",
       "      <td>40.607468</td>\n",
       "    </tr>\n",
       "    <tr>\n",
       "      <th>2</th>\n",
       "      <td>50</td>\n",
       "      <td>0.110675</td>\n",
       "      <td>0.8854</td>\n",
       "      <td>50.359418</td>\n",
       "    </tr>\n",
       "    <tr>\n",
       "      <th>3</th>\n",
       "      <td>60</td>\n",
       "      <td>0.101275</td>\n",
       "      <td>0.8102</td>\n",
       "      <td>60.141639</td>\n",
       "    </tr>\n",
       "    <tr>\n",
       "      <th>4</th>\n",
       "      <td>70</td>\n",
       "      <td>0.093900</td>\n",
       "      <td>0.7512</td>\n",
       "      <td>69.959803</td>\n",
       "    </tr>\n",
       "    <tr>\n",
       "      <th>5</th>\n",
       "      <td>80</td>\n",
       "      <td>0.087400</td>\n",
       "      <td>0.6992</td>\n",
       "      <td>80.752671</td>\n",
       "    </tr>\n",
       "  </tbody>\n",
       "</table>\n",
       "</div>"
      ],
      "text/plain": [
       "   Height [$cm$]  $\\overline{t} [s]$  T [$s$]  $\\omega^2$\n",
       "0             30            0.140000   1.1200   31.471953\n",
       "1             40            0.123250   0.9860   40.607468\n",
       "2             50            0.110675   0.8854   50.359418\n",
       "3             60            0.101275   0.8102   60.141639\n",
       "4             70            0.093900   0.7512   69.959803\n",
       "5             80            0.087400   0.6992   80.752671"
      ]
     },
     "execution_count": 5,
     "metadata": {},
     "output_type": "execute_result"
    }
   ],
   "source": [
    "m60d = {'Height [$cm$]': [i for i in [80] * 4] + [i for i in [70] * 4] + [i for i in [60] * 4] + [i for i in [50] * 4] + [i for i in [40] * 4] + [i for i in [30] * 4],\n",
    "      '$\\overline{t} [s]$': [0.0867, 0.0874, 0.0870, 0.0885,\n",
    "                        0.0931, 0.0939, 0.0934, 0.0952,\n",
    "                        0.1001, 0.1005, 0.1010, 0.1035,\n",
    "                        0.1092, 0.1098, 0.1105, 0.1132,\n",
    "                        0.1214, 0.1221, 0.1231, 0.1264,\n",
    "                        0.1376, 0.1396, 0.1395, 0.1433,\n",
    "                        ]\n",
    "            }\n",
    "m60 = pd.DataFrame(m60d)\n",
    "m60 = m60.groupby(['Height [$cm$]'], as_index = False).mean()\n",
    "m60['T [$s$]'] = m60['$\\overline{t} [s]$'] * 8\n",
    "m60[\"$\\omega^2$\"] = (4 * (np.pi ** 2))/ ((m60[\"T [$s$]\"]) ** 2)\n",
    "m60"
   ]
  },
  {
   "cell_type": "code",
   "execution_count": 6,
   "metadata": {},
   "outputs": [
    {
     "data": {
      "image/png": "[encoded data removed]",
      "text/plain": [
       "<Figure size 432x288 with 1 Axes>"
      ]
     },
     "metadata": {
      "needs_background": "light"
     },
     "output_type": "display_data"
    },
    {
     "data": {
      "text/latex": [
       "$R^2$ = 0.9994260034678575"
      ],
      "text/plain": [
       "<IPython.core.display.Latex object>"
      ]
     },
     "metadata": {},
     "output_type": "display_data"
    },
    {
     "data": {
      "text/latex": [
       "$f(x) = 0.010161405884977744x -0.014454159936804989$"
      ],
      "text/plain": [
       "<IPython.core.display.Latex object>"
      ]
     },
     "metadata": {},
     "output_type": "display_data"
    },
    {
     "data": {
      "text/latex": [
       "$I$ =     0.0119 $kgm^2$"
      ],
      "text/plain": [
       "<IPython.core.display.Latex object>"
      ]
     },
     "metadata": {},
     "output_type": "display_data"
    }
   ],
   "source": [
    "X = np.array(m60['$\\omega^2$']).reshape(-1, 1)\n",
    "Y = np.array(m60[\"Height [$cm$]\"]/100).reshape(-1, 1)\n",
    "reg = LinearRegression().fit(X, Y)\n",
    "Y_pred = reg.predict(X)\n",
    "reg_value = reg.score(X, Y)\n",
    "intercept = reg.intercept_\n",
    "coef = reg.coef_\n",
    "I = (60/1000) * (2 * 9.8 * coef - ((22.54/1000)**2))\n",
    "\n",
    "plt.scatter(X, Y)\n",
    "plt.plot(X, Y_pred, color='blue')\n",
    "plt.ylabel(\"Height [$cm$]\")\n",
    "plt.xlabel(\"$\\omega^2 [rads^{-1}]$\")\n",
    "plt.title(\"Graph of $h$ vs $\\omega^2$\")\n",
    "plt.grid()\n",
    "#plt.show()\n",
    "display(Latex(\"$R^2$ = {}\".format(reg_value)))\n",
    "display(Latex(\"$f(x) = {}x {}$\".format(coef[0, 0], intercept[0])))\n",
    "display(Latex(\"$I$ = {:10.4f} $kgm^2$\".format(I[0, 0])))"
   ]
  },
  {
   "cell_type": "code",
   "execution_count": 62,
   "metadata": {},
   "outputs": [
    {
     "data": {
      "text/html": [
       "<div>\n",
       "<style scoped>\n",
       "    .dataframe tbody tr th:only-of-type {\n",
       "        vertical-align: middle;\n",
       "    }\n",
       "\n",
       "    .dataframe tbody tr th {\n",
       "        vertical-align: top;\n",
       "    }\n",
       "\n",
       "    .dataframe thead th {\n",
       "        text-align: right;\n",
       "    }\n",
       "</style>\n",
       "<table border=\"1\" class=\"dataframe\">\n",
       "  <thead>\n",
       "    <tr style=\"text-align: right;\">\n",
       "      <th></th>\n",
       "      <th>Height [$cm$]</th>\n",
       "      <th>$\\overline{t} [s]$</th>\n",
       "      <th>T [$s$]</th>\n",
       "      <th>$\\omega^2$</th>\n",
       "    </tr>\n",
       "  </thead>\n",
       "  <tbody>\n",
       "    <tr>\n",
       "      <th>0</th>\n",
       "      <td>30</td>\n",
       "      <td>0.111600</td>\n",
       "      <td>0.8928</td>\n",
       "      <td>49.528066</td>\n",
       "    </tr>\n",
       "    <tr>\n",
       "      <th>1</th>\n",
       "      <td>40</td>\n",
       "      <td>0.096350</td>\n",
       "      <td>0.7708</td>\n",
       "      <td>66.447145</td>\n",
       "    </tr>\n",
       "    <tr>\n",
       "      <th>2</th>\n",
       "      <td>50</td>\n",
       "      <td>0.087800</td>\n",
       "      <td>0.7024</td>\n",
       "      <td>80.018560</td>\n",
       "    </tr>\n",
       "    <tr>\n",
       "      <th>3</th>\n",
       "      <td>60</td>\n",
       "      <td>0.080625</td>\n",
       "      <td>0.6450</td>\n",
       "      <td>94.894340</td>\n",
       "    </tr>\n",
       "    <tr>\n",
       "      <th>4</th>\n",
       "      <td>70</td>\n",
       "      <td>0.073950</td>\n",
       "      <td>0.5916</td>\n",
       "      <td>112.798521</td>\n",
       "    </tr>\n",
       "    <tr>\n",
       "      <th>5</th>\n",
       "      <td>80</td>\n",
       "      <td>0.070075</td>\n",
       "      <td>0.5606</td>\n",
       "      <td>125.618485</td>\n",
       "    </tr>\n",
       "  </tbody>\n",
       "</table>\n",
       "</div>"
      ],
      "text/plain": [
       "   Height [$cm$]  $\\overline{t} [s]$  T [$s$]  $\\omega^2$\n",
       "0             30            0.111600   0.8928   49.528066\n",
       "1             40            0.096350   0.7708   66.447145\n",
       "2             50            0.087800   0.7024   80.018560\n",
       "3             60            0.080625   0.6450   94.894340\n",
       "4             70            0.073950   0.5916  112.798521\n",
       "5             80            0.070075   0.5606  125.618485"
      ]
     },
     "execution_count": 62,
     "metadata": {},
     "output_type": "execute_result"
    }
   ],
   "source": [
    "m90d = {'Height [$cm$]': [i for i in [80] * 4] + [i for i in [70] * 4] + [i for i in [60] * 4] + [i for i in [50] * 4] + [i for i in [40] * 4] + [i for i in [30] * 4],\n",
    "      '$\\overline{t} [s]$': [0.0696, 0.0697, 0.0698, 0.0712,\n",
    "                        0.0734, 0.074, 0.0735, 0.0749,\n",
    "                        0.08, 0.0801, 0.0804, 0.0820,\n",
    "                        0.087, 0.0874, 0.0873, 0.0895,\n",
    "                        0.0953, 0.0963, 0.0957, 0.0981,\n",
    "                        0.1101, 0.1114, 0.1110, 0.1139]\n",
    "            }\n",
    "m90 = pd.DataFrame(m90d)\n",
    "m90 = m90.groupby(['Height [$cm$]'], as_index = False).mean()\n",
    "m90['T [$s$]'] = m90['$\\overline{t} [s]$'] * 8\n",
    "m90[\"$\\omega^2$\"] = (4 * (np.pi ** 2))/ ((m90[\"T [$s$]\"]) ** 2)\n",
    "m90"
   ]
  },
  {
   "cell_type": "code",
   "execution_count": 8,
   "metadata": {
    "caption": "somecaption"
   },
   "outputs": [
    {
     "data": {
      "image/png": "[encoded data removed]",
      "text/plain": [
       "<Figure size 432x288 with 1 Axes>"
      ]
     },
     "metadata": {
      "needs_background": "light"
     },
     "output_type": "display_data"
    },
    {
     "data": {
      "text/latex": [
       "$R^2$ = 0.9984834259758607"
      ],
      "text/plain": [
       "<IPython.core.display.Latex object>"
      ]
     },
     "metadata": {},
     "output_type": "display_data"
    },
    {
     "data": {
      "text/latex": [
       "$f(x) = 0.006539688827993439x -0.026915126144064994$"
      ],
      "text/plain": [
       "<IPython.core.display.Latex object>"
      ]
     },
     "metadata": {},
     "output_type": "display_data"
    },
    {
     "data": {
      "text/latex": [
       "$I$ =     0.0115 $kgm^2$"
      ],
      "text/plain": [
       "<IPython.core.display.Latex object>"
      ]
     },
     "metadata": {},
     "output_type": "display_data"
    }
   ],
   "source": [
    "X = np.array(m90['$\\omega^2$']).reshape(-1, 1)\n",
    "Y = np.array(m90[\"Height [$cm$]\"]/100).reshape(-1, 1)\n",
    "reg = LinearRegression().fit(X, Y)\n",
    "Y_pred = reg.predict(X)\n",
    "reg_value = reg.score(X, Y)\n",
    "intercept = reg.intercept_\n",
    "coef = reg.coef_\n",
    "I = (90 /1000) * (2 * 9.8 * coef - ((22.54/1000)**2))\n",
    "\n",
    "plt.scatter(X, Y)\n",
    "plt.plot(X, Y_pred, color='blue')\n",
    "plt.xlabel(\"Height [$cm$]\")\n",
    "plt.ylabel(\"$\\omega^2$\")\n",
    "plt.title(\"Graph of $h$ vs $\\omega^2$\")\n",
    "plt.grid()\n",
    "#plt.show()\n",
    "display(Latex(\"$R^2$ = {}\".format(reg_value)))\n",
    "display(Latex(\"$f(x) = {}x {}$\".format(coef[0, 0], intercept[0])))\n",
    "display(Latex(\"$I$ = {:10.4f} $kgm^2$\".format(I[0, 0])))"
   ]
  },
  {
   "cell_type": "markdown",
   "metadata": {},
   "source": [
    "## Part 4"
   ]
  },
  {
   "cell_type": "code",
   "execution_count": 10,
   "metadata": {},
   "outputs": [
    {
     "data": {
      "text/html": [
       "<div>\n",
       "<style scoped>\n",
       "    .dataframe tbody tr th:only-of-type {\n",
       "        vertical-align: middle;\n",
       "    }\n",
       "\n",
       "    .dataframe tbody tr th {\n",
       "        vertical-align: top;\n",
       "    }\n",
       "\n",
       "    .dataframe thead th {\n",
       "        text-align: right;\n",
       "    }\n",
       "</style>\n",
       "<table border=\"1\" class=\"dataframe\">\n",
       "  <thead>\n",
       "    <tr style=\"text-align: right;\">\n",
       "      <th></th>\n",
       "      <th>$T$</th>\n",
       "      <th>$T_1$</th>\n",
       "      <th>$T_2$</th>\n",
       "      <th>$T_p$</th>\n",
       "      <th>$T_{r1}$</th>\n",
       "      <th>$T_{r2}$</th>\n",
       "    </tr>\n",
       "  </thead>\n",
       "  <tbody>\n",
       "    <tr>\n",
       "      <th>0</th>\n",
       "      <td>13.3</td>\n",
       "      <td>0.029200</td>\n",
       "      <td>0.040650</td>\n",
       "      <td>26.6</td>\n",
       "      <td>0.2336</td>\n",
       "      <td>0.040650</td>\n",
       "    </tr>\n",
       "    <tr>\n",
       "      <th>1</th>\n",
       "      <td>14.0</td>\n",
       "      <td>0.027325</td>\n",
       "      <td>0.038125</td>\n",
       "      <td>28.0</td>\n",
       "      <td>0.2186</td>\n",
       "      <td>0.038125</td>\n",
       "    </tr>\n",
       "    <tr>\n",
       "      <th>2</th>\n",
       "      <td>14.7</td>\n",
       "      <td>0.025975</td>\n",
       "      <td>0.036875</td>\n",
       "      <td>29.4</td>\n",
       "      <td>0.2078</td>\n",
       "      <td>0.036875</td>\n",
       "    </tr>\n",
       "    <tr>\n",
       "      <th>3</th>\n",
       "      <td>17.0</td>\n",
       "      <td>0.021575</td>\n",
       "      <td>0.031650</td>\n",
       "      <td>34.0</td>\n",
       "      <td>0.1726</td>\n",
       "      <td>0.031650</td>\n",
       "    </tr>\n",
       "    <tr>\n",
       "      <th>4</th>\n",
       "      <td>20.0</td>\n",
       "      <td>0.017675</td>\n",
       "      <td>0.027200</td>\n",
       "      <td>40.0</td>\n",
       "      <td>0.1414</td>\n",
       "      <td>0.027200</td>\n",
       "    </tr>\n",
       "    <tr>\n",
       "      <th>5</th>\n",
       "      <td>21.5</td>\n",
       "      <td>0.016675</td>\n",
       "      <td>0.025825</td>\n",
       "      <td>43.0</td>\n",
       "      <td>0.1334</td>\n",
       "      <td>0.025825</td>\n",
       "    </tr>\n",
       "    <tr>\n",
       "      <th>6</th>\n",
       "      <td>22.4</td>\n",
       "      <td>0.015400</td>\n",
       "      <td>0.024675</td>\n",
       "      <td>44.8</td>\n",
       "      <td>0.1232</td>\n",
       "      <td>0.024675</td>\n",
       "    </tr>\n",
       "    <tr>\n",
       "      <th>7</th>\n",
       "      <td>23.5</td>\n",
       "      <td>0.014475</td>\n",
       "      <td>0.023575</td>\n",
       "      <td>47.0</td>\n",
       "      <td>0.1158</td>\n",
       "      <td>0.023575</td>\n",
       "    </tr>\n",
       "  </tbody>\n",
       "</table>\n",
       "</div>"
      ],
      "text/plain": [
       "    $T$     $T_1$     $T_2$  $T_p$  $T_{r1}$  $T_{r2}$\n",
       "0  13.3  0.029200  0.040650   26.6    0.2336  0.040650\n",
       "1  14.0  0.027325  0.038125   28.0    0.2186  0.038125\n",
       "2  14.7  0.025975  0.036875   29.4    0.2078  0.036875\n",
       "3  17.0  0.021575  0.031650   34.0    0.1726  0.031650\n",
       "4  20.0  0.017675  0.027200   40.0    0.1414  0.027200\n",
       "5  21.5  0.016675  0.025825   43.0    0.1334  0.025825\n",
       "6  22.4  0.015400  0.024675   44.8    0.1232  0.024675\n",
       "7  23.5  0.014475  0.023575   47.0    0.1158  0.023575"
      ]
     },
     "execution_count": 10,
     "metadata": {},
     "output_type": "execute_result"
    }
   ],
   "source": [
    "pred = {'$T$': [i for i in [24.4-4.4] * 4] + [i for i in [18.7-1.7] * 4] + [i for i in [15.8-1.1] * 4] + [i for i in [25.3-2.9] * 4] + [i for i in [26.3-2.8] * 4] + [i for i in [25.6-4.1] * 4] + [i for i in [15.7-1.7] * 4] + [i for i in [17.9-4.6] * 4],\n",
    "       '$T_1$': [0.0175, 0.0176, 0.0178, 0.0178,\n",
    "             0.0214, 0.0217, 0.0216, 0.0216,\n",
    "             0.0255, 0.0257, 0.0262, 0.0265,\n",
    "             0.0153, 0.0155, 0.0155, 0.0153,\n",
    "             0.0144, 0.0147, 0.0145, 0.0143,\n",
    "             0.0168, 0.0165, 0.0167, 0.0167,\n",
    "             0.0270, 0.027, 0.0275, 0.0278,\n",
    "             0.0291, 0.0294, 0.0292, 0.0291],\n",
    "       '$T_2$': [0.0271, 0.0272, 0.0272, 0.0273,\n",
    "             0.0315, 0.032, 0.0314, 0.0317,\n",
    "             0.0368, 0.0366, 0.0372, 0.0369,\n",
    "             0.0247, 0.0245, 0.0249, 0.0246,\n",
    "             0.0234, 0.0233, 0.0239, 0.0237,\n",
    "             0.0262, 0.0256, 0.0256, 0.0259,\n",
    "             0.0384, 0.038, 0.038, 0.0381,\n",
    "             0.0407, 0.0409, 0.0406, 0.0404]}\n",
    "p20 = pd.DataFrame(pred)\n",
    "p20 = p20.groupby(['$T$'], as_index = False).mean()\n",
    "p20['$T_p$'] = p20['$T$'] * 2\n",
    "p20['$T_{r1}$'] = p20['$T_1$'] * 8\n",
    "p20['$T_{r2}$'] = p20['$T_2$']\n",
    "p20"
   ]
  },
  {
   "cell_type": "code",
   "execution_count": 11,
   "metadata": {},
   "outputs": [
    {
     "data": {
      "image/png": "[encoded data removed]",
      "text/plain": [
       "<Figure size 432x288 with 1 Axes>"
      ]
     },
     "metadata": {
      "needs_background": "light"
     },
     "output_type": "display_data"
    },
    {
     "data": {
      "text/latex": [
       "$R^2$ = 0.997336044683989"
      ],
      "text/plain": [
       "<IPython.core.display.Latex object>"
      ]
     },
     "metadata": {},
     "output_type": "display_data"
    },
    {
     "data": {
      "text/latex": [
       "$f(x) = 0.20962434609630795x -1.3244636934185197$"
      ],
      "text/plain": [
       "<IPython.core.display.Latex object>"
      ]
     },
     "metadata": {},
     "output_type": "display_data"
    },
    {
     "data": {
      "text/latex": [
       "$I$ =     0.0062"
      ],
      "text/plain": [
       "<IPython.core.display.Latex object>"
      ]
     },
     "metadata": {},
     "output_type": "display_data"
    }
   ],
   "source": [
    "X = np.array(p20['$T_p$']).reshape(-1, 1)\n",
    "Y = np.array(1/p20[\"$T_{r1}$\"]).reshape(-1, 1)\n",
    "reg = LinearRegression().fit(X, Y)\n",
    "Y_pred = reg.predict(X)\n",
    "reg_value = reg.score(X, Y)\n",
    "intercept = reg.intercept_\n",
    "coef = reg.coef_\n",
    "m = 20/1000\n",
    "g = 9.8\n",
    "r = 26/100\n",
    "I = (m * g * r) / (4 * (np.pi ** 2) * coef)\n",
    "\n",
    "plt.scatter(X, Y)\n",
    "plt.plot(X, Y_pred, color='blue')\n",
    "plt.title(\"Graph of $T_p$ vs 1/Tr\")\n",
    "plt.xlabel(\"$T_p$\")\n",
    "plt.grid()\n",
    "#plt.show()\n",
    "display(Latex(\"$R^2$ = {}\".format(reg_value)))\n",
    "display(Latex(\"$f(x) = {}x {}$\".format(coef[0, 0], intercept[0])))\n",
    "display(Latex(\"$I$ = {:10.4f}\".format(I[0, 0])))"
   ]
  },
  {
   "cell_type": "code",
   "execution_count": 12,
   "metadata": {},
   "outputs": [
    {
     "data": {
      "image/png": "[encoded data removed]",
      "text/plain": [
       "<Figure size 432x288 with 1 Axes>"
      ]
     },
     "metadata": {
      "needs_background": "light"
     },
     "output_type": "display_data"
    },
    {
     "data": {
      "text/latex": [
       "$R^2$ = 0.9987049833658189"
      ],
      "text/plain": [
       "<IPython.core.display.Latex object>"
      ]
     },
     "metadata": {},
     "output_type": "display_data"
    },
    {
     "data": {
      "text/latex": [
       "$f(x) = 0.8628134862229484x 1.9179656204934474$"
      ],
      "text/plain": [
       "<IPython.core.display.Latex object>"
      ]
     },
     "metadata": {},
     "output_type": "display_data"
    },
    {
     "data": {
      "text/latex": [
       "$I$ =     0.0015 $kgm^2$"
      ],
      "text/plain": [
       "<IPython.core.display.Latex object>"
      ]
     },
     "metadata": {},
     "output_type": "display_data"
    }
   ],
   "source": [
    "X = np.array(p20['$T_p$']).reshape(-1, 1)\n",
    "Y = np.array(1/p20[\"$T_{r2}$\"]).reshape(-1, 1)\n",
    "reg = LinearRegression().fit(X, Y)\n",
    "Y_pred = reg.predict(X)\n",
    "reg_value = reg.score(X, Y)\n",
    "intercept = reg.intercept_\n",
    "coef = reg.coef_\n",
    "m = 20/1000\n",
    "g = 9.8\n",
    "r = 26/100\n",
    "I = (m * g * r) / (4 * (np.pi ** 2) * coef)\n",
    "\n",
    "plt.scatter(X, Y)\n",
    "plt.plot(X, Y_pred, color='blue')\n",
    "plt.xlabel(\"$T_p$\")\n",
    "plt.title(\"Graph of $T_p$ and 1/Tr when measure from second light barrier\")\n",
    "plt.grid()\n",
    "#plt.show()\n",
    "display(Latex(\"$R^2$ = {}\".format(reg_value)))\n",
    "display(Latex(\"$f(x) = {}x {}$\".format(coef[0, 0], intercept[0])))\n",
    "display(Latex(\"$I$ = {:10.4f} $kgm^2$\".format(I[0, 0])))"
   ]
  },
  {
   "cell_type": "markdown",
   "metadata": {},
   "source": [
    "## Part 5"
   ]
  },
  {
   "cell_type": "markdown",
   "metadata": {},
   "source": [
    "## Error Analysis"
   ]
  },
  {
   "cell_type": "code",
   "execution_count": 10,
   "metadata": {},
   "outputs": [
    {
     "name": "stdout",
     "output_type": "stream",
     "text": [
      "(4.7+/-1.6)e+02\n"
     ]
    }
   ],
   "source": [
    "r = ufloat(14, 0)\n",
    "m = ufloat(0.03, 0.01)\n",
    "e = r / m\n",
    "print(e)"
   ]
  },
  {
   "cell_type": "code",
   "execution_count": 3,
   "metadata": {},
   "outputs": [
    {
     "data": {
      "text/html": [
       "<div>\n",
       "<style scoped>\n",
       "    .dataframe tbody tr th:only-of-type {\n",
       "        vertical-align: middle;\n",
       "    }\n",
       "\n",
       "    .dataframe tbody tr th {\n",
       "        vertical-align: top;\n",
       "    }\n",
       "\n",
       "    .dataframe thead th {\n",
       "        text-align: right;\n",
       "    }\n",
       "</style>\n",
       "<table border=\"1\" class=\"dataframe\">\n",
       "  <thead>\n",
       "    <tr style=\"text-align: right;\">\n",
       "      <th></th>\n",
       "      <th>$T$</th>\n",
       "      <th>$T_1$</th>\n",
       "      <th>$T_2$</th>\n",
       "      <th>$T_{r2}$</th>\n",
       "      <th>$T_p$</th>\n",
       "      <th>$T_{r1}$</th>\n",
       "    </tr>\n",
       "  </thead>\n",
       "  <tbody>\n",
       "    <tr>\n",
       "      <th>0</th>\n",
       "      <td>13.3</td>\n",
       "      <td>0.029200</td>\n",
       "      <td>0.040650</td>\n",
       "      <td>0.3252</td>\n",
       "      <td>26.6</td>\n",
       "      <td>0.2336</td>\n",
       "    </tr>\n",
       "    <tr>\n",
       "      <th>1</th>\n",
       "      <td>14.0</td>\n",
       "      <td>0.027325</td>\n",
       "      <td>0.038025</td>\n",
       "      <td>0.3042</td>\n",
       "      <td>28.0</td>\n",
       "      <td>0.2186</td>\n",
       "    </tr>\n",
       "    <tr>\n",
       "      <th>2</th>\n",
       "      <td>14.7</td>\n",
       "      <td>0.026000</td>\n",
       "      <td>0.036875</td>\n",
       "      <td>0.2950</td>\n",
       "      <td>29.4</td>\n",
       "      <td>0.2080</td>\n",
       "    </tr>\n",
       "    <tr>\n",
       "      <th>3</th>\n",
       "      <td>17.0</td>\n",
       "      <td>0.021575</td>\n",
       "      <td>0.031825</td>\n",
       "      <td>0.2546</td>\n",
       "      <td>34.0</td>\n",
       "      <td>0.1726</td>\n",
       "    </tr>\n",
       "    <tr>\n",
       "      <th>4</th>\n",
       "      <td>20.0</td>\n",
       "      <td>0.017675</td>\n",
       "      <td>0.027200</td>\n",
       "      <td>0.2176</td>\n",
       "      <td>40.0</td>\n",
       "      <td>0.1414</td>\n",
       "    </tr>\n",
       "    <tr>\n",
       "      <th>5</th>\n",
       "      <td>21.4</td>\n",
       "      <td>0.016675</td>\n",
       "      <td>0.026025</td>\n",
       "      <td>0.2082</td>\n",
       "      <td>42.8</td>\n",
       "      <td>0.1334</td>\n",
       "    </tr>\n",
       "    <tr>\n",
       "      <th>6</th>\n",
       "      <td>22.4</td>\n",
       "      <td>0.015375</td>\n",
       "      <td>0.024675</td>\n",
       "      <td>0.1974</td>\n",
       "      <td>44.8</td>\n",
       "      <td>0.1230</td>\n",
       "    </tr>\n",
       "    <tr>\n",
       "      <th>7</th>\n",
       "      <td>23.5</td>\n",
       "      <td>0.014475</td>\n",
       "      <td>0.023575</td>\n",
       "      <td>0.1886</td>\n",
       "      <td>47.0</td>\n",
       "      <td>0.1158</td>\n",
       "    </tr>\n",
       "  </tbody>\n",
       "</table>\n",
       "</div>"
      ],
      "text/plain": [
       "    $T$     $T_1$     $T_2$  $T_{r2}$  $T_p$  $T_{r1}$\n",
       "0  13.3  0.029200  0.040650    0.3252   26.6    0.2336\n",
       "1  14.0  0.027325  0.038025    0.3042   28.0    0.2186\n",
       "2  14.7  0.026000  0.036875    0.2950   29.4    0.2080\n",
       "3  17.0  0.021575  0.031825    0.2546   34.0    0.1726\n",
       "4  20.0  0.017675  0.027200    0.2176   40.0    0.1414\n",
       "5  21.4  0.016675  0.026025    0.2082   42.8    0.1334\n",
       "6  22.4  0.015375  0.024675    0.1974   44.8    0.1230\n",
       "7  23.5  0.014475  0.023575    0.1886   47.0    0.1158"
      ]
     },
     "execution_count": 3,
     "metadata": {},
     "output_type": "execute_result"
    }
   ],
   "source": [
    "pred40 = {'$T$': [i for i in [24.5-4.5] * 4] + [i for i in [18.8-1.8] * 4] + [i for i in [15.9-1.2] * 4] + [i for i in [25.4-3] * 4] + [i for i in [26.4-2.9] * 4] + [i for i in [25.7-4.3] * 4] + [i for i in [15.8-1.8] * 4] + [i for i in [18-4.7] * 4],\n",
    "       '$T_1$': [0.0175, 0.0176, 0.0178, 0.0178, \n",
    "                 0.0214, 0.0217, 0.0216, 0.0216,\n",
    "                 0.0255, 0.0258, 0.0262, 0.0265,\n",
    "                 0.0153, 0.0154, 0.0155, 0.0153,\n",
    "                0.0144, 0.0147, 0.0145, 0.0143,\n",
    "                 0.0168, 0.0165, 0.0167, 0.0167,\n",
    "                 0.0270, 0.027, 0.0275, 0.0278,\n",
    "                 0.0291, 0.0294, 0.0292, 0.0291],\n",
    "       '$T_2$': [0.0271, 0.0272, 0.0272, 0.0273,\n",
    "                0.032, 0.0314, 0.0317, 0.0322,\n",
    "                0.0366, 0.0372, 0.0369, 0.0368,\n",
    "                0.0247, 0.0245, 0.0249, 0.0246,\n",
    "                0.0234, 0.0233, 0.0239, 0.0237,\n",
    "                0.0262, 0.026, 0.026, 0.0259,\n",
    "                0.0377, 0.0384, 0.038, 0.038,\n",
    "                0.0407, 0.0409, 0.0406, 0.0404]}\n",
    "p40 = pd.DataFrame(pred40)\n",
    "p40['$T_{r2}$'] = p40['$T_2$'] * 8\n",
    "p40 = p40.groupby(['$T$'], as_index = False).mean()\n",
    "p40['$T_p$'] = p40['$T$'] * 2\n",
    "p40['$T_{r1}$'] = p40['$T_1$'] * 8\n",
    "p40"
   ]
  },
  {
   "cell_type": "code",
   "execution_count": 78,
   "metadata": {},
   "outputs": [
    {
     "data": {
      "text/latex": [
       "$R^2$ = 0.9980034192218488"
      ],
      "text/plain": [
       "<IPython.core.display.Latex object>"
      ]
     },
     "metadata": {},
     "output_type": "display_data"
    },
    {
     "data": {
      "text/latex": [
       "$f(x) = 0.2105881176769814x -1.3534016611286352$"
      ],
      "text/plain": [
       "<IPython.core.display.Latex object>"
      ]
     },
     "metadata": {},
     "output_type": "display_data"
    },
    {
     "data": {
      "text/latex": [
       "$I$ =     0.0061"
      ],
      "text/plain": [
       "<IPython.core.display.Latex object>"
      ]
     },
     "metadata": {},
     "output_type": "display_data"
    },
    {
     "data": {
      "image/png": "[encoded data removed]",
      "text/plain": [
       "<Figure size 432x288 with 1 Axes>"
      ]
     },
     "metadata": {
      "needs_background": "light"
     },
     "output_type": "display_data"
    }
   ],
   "source": [
    "X = np.array(p40['$T_p$']).reshape(-1, 1)\n",
    "Y = np.array(1/p40[\"$T_{r1}$\"]).reshape(-1, 1)\n",
    "reg = LinearRegression().fit(X, Y)\n",
    "Y_pred = reg.predict(X)\n",
    "reg_value = reg.score(X, Y)\n",
    "intercept = reg.intercept_\n",
    "coef = reg.coef_\n",
    "m = 20/1000\n",
    "g = 9.8\n",
    "r = 26/100\n",
    "I = (m * g * r) / (4 * (np.pi ** 2) * coef)\n",
    "\n",
    "plt.scatter(X, Y)\n",
    "plt.plot(X, Y_pred, color='blue')\n",
    "plt.title(\"Graph of $T_p$ vs 1/Tr\")\n",
    "plt.xlabel(\"$T_p$\")\n",
    "plt.grid()\n",
    "#plt.show()\n",
    "display(Latex(\"$R^2$ = {}\".format(reg_value)))\n",
    "display(Latex(\"$f(x) = {}x {}$\".format(coef[0, 0], intercept[0])))\n",
    "display(Latex(\"$I$ = {:10.4f}\".format(I[0, 0])))"
   ]
  },
  {
   "cell_type": "code",
   "execution_count": 5,
   "metadata": {},
   "outputs": [
    {
     "data": {
      "text/latex": [
       "$R^2$ = 0.9986369050122937"
      ],
      "text/plain": [
       "<IPython.core.display.Latex object>"
      ]
     },
     "metadata": {},
     "output_type": "display_data"
    },
    {
     "data": {
      "text/latex": [
       "$f(x) = 0.10761613296857793x 0.24477084645231084$"
      ],
      "text/plain": [
       "<IPython.core.display.Latex object>"
      ]
     },
     "metadata": {},
     "output_type": "display_data"
    },
    {
     "data": {
      "text/latex": [
       "$I$ =     0.0120"
      ],
      "text/plain": [
       "<IPython.core.display.Latex object>"
      ]
     },
     "metadata": {},
     "output_type": "display_data"
    },
    {
     "data": {
      "image/png": "[encoded data removed]",
      "text/plain": [
       "<Figure size 432x288 with 1 Axes>"
      ]
     },
     "metadata": {
      "needs_background": "light"
     },
     "output_type": "display_data"
    }
   ],
   "source": [
    "X = np.array(p40['$T_p$']).reshape(-1, 1)\n",
    "Y = np.array(1/p40[\"$T_{r2}$\"]).reshape(-1, 1)\n",
    "reg = LinearRegression().fit(X, Y)\n",
    "Y_pred = reg.predict(X)\n",
    "reg_value = reg.score(X, Y)\n",
    "intercept = reg.intercept_\n",
    "coef = reg.coef_\n",
    "m = 20/1000\n",
    "g = 9.8\n",
    "r = 26/100\n",
    "I = (m * g * r) / (4 * (np.pi ** 2) * coef)\n",
    "\n",
    "plt.scatter(X, Y)\n",
    "plt.plot(X, Y_pred, color='blue')\n",
    "plt.title(\"Graph of $T_p$ vs 1/Tr\")\n",
    "plt.xlabel(\"$T_p$\")\n",
    "plt.grid()\n",
    "#plt.show()\n",
    "display(Latex(\"$R^2$ = {}\".format(reg_value)))\n",
    "display(Latex(\"$f(x) = {}x {}$\".format(coef[0, 0], intercept[0])))\n",
    "display(Latex(\"$I$ = {:10.4f}\".format(I[0, 0])))"
   ]
  },
  {
   "cell_type": "code",
   "execution_count": null,
   "metadata": {},
   "outputs": [],
   "source": []
  }
 ],
 "metadata": {
  "kernelspec": {
   "display_name": "Python 3",
   "language": "python",
   "name": "python3"
  },
  "language_info": {
   "codemirror_mode": {
    "name": "ipython",
    "version": 3
   },
   "file_extension": ".py",
   "mimetype": "text/x-python",
   "name": "python",
   "nbconvert_exporter": "python",
   "pygments_lexer": "ipython3",
   "version": "3.8.10"
  },
  "latex_metadata": {
   "author": "Nitesh Khatiwada",
   "title": "Dynamics of Rotational Motion"
  }
 },
 "nbformat": 4,
 "nbformat_minor": 4
}
